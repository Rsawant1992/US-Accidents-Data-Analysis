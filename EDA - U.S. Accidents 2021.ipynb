{
 "cells": [
  {
   "cell_type": "markdown",
   "metadata": {},
   "source": [
    "# Importing Libraries\n"
   ]
  },
  {
   "cell_type": "code",
   "execution_count": 1,
   "metadata": {},
   "outputs": [],
   "source": [
    "import pandas as pd"
   ]
  },
  {
   "cell_type": "markdown",
   "metadata": {},
   "source": [
    "# Data Preparation and Cleaning"
   ]
  },
  {
   "cell_type": "code",
   "execution_count": 6,
   "metadata": {},
   "outputs": [],
   "source": [
    "df = pd.read_csv(r\"C:\\Users\\rehan\\Downloads\\US_Accidents\\US_Accidents_Dec21.csv\")"
   ]
  },
  {
   "cell_type": "code",
   "execution_count": 7,
   "metadata": {},
   "outputs": [
    {
     "data": {
      "text/html": [
       "<div>\n",
       "<style scoped>\n",
       "    .dataframe tbody tr th:only-of-type {\n",
       "        vertical-align: middle;\n",
       "    }\n",
       "\n",
       "    .dataframe tbody tr th {\n",
       "        vertical-align: top;\n",
       "    }\n",
       "\n",
       "    .dataframe thead th {\n",
       "        text-align: right;\n",
       "    }\n",
       "</style>\n",
       "<table border=\"1\" class=\"dataframe\">\n",
       "  <thead>\n",
       "    <tr style=\"text-align: right;\">\n",
       "      <th></th>\n",
       "      <th>ID</th>\n",
       "      <th>Severity</th>\n",
       "      <th>Start_Time</th>\n",
       "      <th>End_Time</th>\n",
       "      <th>Start_Lat</th>\n",
       "      <th>Start_Lng</th>\n",
       "      <th>End_Lat</th>\n",
       "      <th>End_Lng</th>\n",
       "      <th>Distance(mi)</th>\n",
       "      <th>Description</th>\n",
       "      <th>...</th>\n",
       "      <th>Roundabout</th>\n",
       "      <th>Station</th>\n",
       "      <th>Stop</th>\n",
       "      <th>Traffic_Calming</th>\n",
       "      <th>Traffic_Signal</th>\n",
       "      <th>Turning_Loop</th>\n",
       "      <th>Sunrise_Sunset</th>\n",
       "      <th>Civil_Twilight</th>\n",
       "      <th>Nautical_Twilight</th>\n",
       "      <th>Astronomical_Twilight</th>\n",
       "    </tr>\n",
       "  </thead>\n",
       "  <tbody>\n",
       "    <tr>\n",
       "      <th>0</th>\n",
       "      <td>A-1</td>\n",
       "      <td>3</td>\n",
       "      <td>2016-02-08 00:37:08</td>\n",
       "      <td>2016-02-08 06:37:08</td>\n",
       "      <td>40.108910</td>\n",
       "      <td>-83.092860</td>\n",
       "      <td>40.112060</td>\n",
       "      <td>-83.031870</td>\n",
       "      <td>3.230</td>\n",
       "      <td>Between Sawmill Rd/Exit 20 and OH-315/Olentang...</td>\n",
       "      <td>...</td>\n",
       "      <td>False</td>\n",
       "      <td>False</td>\n",
       "      <td>False</td>\n",
       "      <td>False</td>\n",
       "      <td>False</td>\n",
       "      <td>False</td>\n",
       "      <td>Night</td>\n",
       "      <td>Night</td>\n",
       "      <td>Night</td>\n",
       "      <td>Night</td>\n",
       "    </tr>\n",
       "    <tr>\n",
       "      <th>1</th>\n",
       "      <td>A-2</td>\n",
       "      <td>2</td>\n",
       "      <td>2016-02-08 05:56:20</td>\n",
       "      <td>2016-02-08 11:56:20</td>\n",
       "      <td>39.865420</td>\n",
       "      <td>-84.062800</td>\n",
       "      <td>39.865010</td>\n",
       "      <td>-84.048730</td>\n",
       "      <td>0.747</td>\n",
       "      <td>At OH-4/OH-235/Exit 41 - Accident.</td>\n",
       "      <td>...</td>\n",
       "      <td>False</td>\n",
       "      <td>False</td>\n",
       "      <td>False</td>\n",
       "      <td>False</td>\n",
       "      <td>False</td>\n",
       "      <td>False</td>\n",
       "      <td>Night</td>\n",
       "      <td>Night</td>\n",
       "      <td>Night</td>\n",
       "      <td>Night</td>\n",
       "    </tr>\n",
       "    <tr>\n",
       "      <th>2</th>\n",
       "      <td>A-3</td>\n",
       "      <td>2</td>\n",
       "      <td>2016-02-08 06:15:39</td>\n",
       "      <td>2016-02-08 12:15:39</td>\n",
       "      <td>39.102660</td>\n",
       "      <td>-84.524680</td>\n",
       "      <td>39.102090</td>\n",
       "      <td>-84.523960</td>\n",
       "      <td>0.055</td>\n",
       "      <td>At I-71/US-50/Exit 1 - Accident.</td>\n",
       "      <td>...</td>\n",
       "      <td>False</td>\n",
       "      <td>False</td>\n",
       "      <td>False</td>\n",
       "      <td>False</td>\n",
       "      <td>False</td>\n",
       "      <td>False</td>\n",
       "      <td>Night</td>\n",
       "      <td>Night</td>\n",
       "      <td>Night</td>\n",
       "      <td>Day</td>\n",
       "    </tr>\n",
       "    <tr>\n",
       "      <th>3</th>\n",
       "      <td>A-4</td>\n",
       "      <td>2</td>\n",
       "      <td>2016-02-08 06:51:45</td>\n",
       "      <td>2016-02-08 12:51:45</td>\n",
       "      <td>41.062130</td>\n",
       "      <td>-81.537840</td>\n",
       "      <td>41.062170</td>\n",
       "      <td>-81.535470</td>\n",
       "      <td>0.123</td>\n",
       "      <td>At Dart Ave/Exit 21 - Accident.</td>\n",
       "      <td>...</td>\n",
       "      <td>False</td>\n",
       "      <td>False</td>\n",
       "      <td>False</td>\n",
       "      <td>False</td>\n",
       "      <td>False</td>\n",
       "      <td>False</td>\n",
       "      <td>Night</td>\n",
       "      <td>Night</td>\n",
       "      <td>Day</td>\n",
       "      <td>Day</td>\n",
       "    </tr>\n",
       "    <tr>\n",
       "      <th>4</th>\n",
       "      <td>A-5</td>\n",
       "      <td>3</td>\n",
       "      <td>2016-02-08 07:53:43</td>\n",
       "      <td>2016-02-08 13:53:43</td>\n",
       "      <td>39.172393</td>\n",
       "      <td>-84.492792</td>\n",
       "      <td>39.170476</td>\n",
       "      <td>-84.501798</td>\n",
       "      <td>0.500</td>\n",
       "      <td>At Mitchell Ave/Exit 6 - Accident.</td>\n",
       "      <td>...</td>\n",
       "      <td>False</td>\n",
       "      <td>False</td>\n",
       "      <td>False</td>\n",
       "      <td>False</td>\n",
       "      <td>False</td>\n",
       "      <td>False</td>\n",
       "      <td>Day</td>\n",
       "      <td>Day</td>\n",
       "      <td>Day</td>\n",
       "      <td>Day</td>\n",
       "    </tr>\n",
       "  </tbody>\n",
       "</table>\n",
       "<p>5 rows × 47 columns</p>\n",
       "</div>"
      ],
      "text/plain": [
       "    ID  Severity           Start_Time             End_Time  Start_Lat  \\\n",
       "0  A-1         3  2016-02-08 00:37:08  2016-02-08 06:37:08  40.108910   \n",
       "1  A-2         2  2016-02-08 05:56:20  2016-02-08 11:56:20  39.865420   \n",
       "2  A-3         2  2016-02-08 06:15:39  2016-02-08 12:15:39  39.102660   \n",
       "3  A-4         2  2016-02-08 06:51:45  2016-02-08 12:51:45  41.062130   \n",
       "4  A-5         3  2016-02-08 07:53:43  2016-02-08 13:53:43  39.172393   \n",
       "\n",
       "   Start_Lng    End_Lat    End_Lng  Distance(mi)  \\\n",
       "0 -83.092860  40.112060 -83.031870         3.230   \n",
       "1 -84.062800  39.865010 -84.048730         0.747   \n",
       "2 -84.524680  39.102090 -84.523960         0.055   \n",
       "3 -81.537840  41.062170 -81.535470         0.123   \n",
       "4 -84.492792  39.170476 -84.501798         0.500   \n",
       "\n",
       "                                         Description  ...  Roundabout Station  \\\n",
       "0  Between Sawmill Rd/Exit 20 and OH-315/Olentang...  ...       False   False   \n",
       "1                 At OH-4/OH-235/Exit 41 - Accident.  ...       False   False   \n",
       "2                   At I-71/US-50/Exit 1 - Accident.  ...       False   False   \n",
       "3                    At Dart Ave/Exit 21 - Accident.  ...       False   False   \n",
       "4                 At Mitchell Ave/Exit 6 - Accident.  ...       False   False   \n",
       "\n",
       "    Stop Traffic_Calming Traffic_Signal Turning_Loop Sunrise_Sunset  \\\n",
       "0  False           False          False        False          Night   \n",
       "1  False           False          False        False          Night   \n",
       "2  False           False          False        False          Night   \n",
       "3  False           False          False        False          Night   \n",
       "4  False           False          False        False            Day   \n",
       "\n",
       "  Civil_Twilight Nautical_Twilight Astronomical_Twilight  \n",
       "0          Night             Night                 Night  \n",
       "1          Night             Night                 Night  \n",
       "2          Night             Night                   Day  \n",
       "3          Night               Day                   Day  \n",
       "4            Day               Day                   Day  \n",
       "\n",
       "[5 rows x 47 columns]"
      ]
     },
     "execution_count": 7,
     "metadata": {},
     "output_type": "execute_result"
    }
   ],
   "source": [
    "df.head(5)"
   ]
  },
  {
   "cell_type": "code",
   "execution_count": 8,
   "metadata": {},
   "outputs": [
    {
     "data": {
      "text/html": [
       "<div>\n",
       "<style scoped>\n",
       "    .dataframe tbody tr th:only-of-type {\n",
       "        vertical-align: middle;\n",
       "    }\n",
       "\n",
       "    .dataframe tbody tr th {\n",
       "        vertical-align: top;\n",
       "    }\n",
       "\n",
       "    .dataframe thead th {\n",
       "        text-align: right;\n",
       "    }\n",
       "</style>\n",
       "<table border=\"1\" class=\"dataframe\">\n",
       "  <thead>\n",
       "    <tr style=\"text-align: right;\">\n",
       "      <th></th>\n",
       "      <th>ID</th>\n",
       "      <th>Severity</th>\n",
       "      <th>Start_Time</th>\n",
       "      <th>End_Time</th>\n",
       "      <th>Start_Lat</th>\n",
       "      <th>Start_Lng</th>\n",
       "      <th>End_Lat</th>\n",
       "      <th>End_Lng</th>\n",
       "      <th>Distance(mi)</th>\n",
       "      <th>Description</th>\n",
       "      <th>...</th>\n",
       "      <th>Roundabout</th>\n",
       "      <th>Station</th>\n",
       "      <th>Stop</th>\n",
       "      <th>Traffic_Calming</th>\n",
       "      <th>Traffic_Signal</th>\n",
       "      <th>Turning_Loop</th>\n",
       "      <th>Sunrise_Sunset</th>\n",
       "      <th>Civil_Twilight</th>\n",
       "      <th>Nautical_Twilight</th>\n",
       "      <th>Astronomical_Twilight</th>\n",
       "    </tr>\n",
       "  </thead>\n",
       "  <tbody>\n",
       "    <tr>\n",
       "      <th>2845337</th>\n",
       "      <td>A-2845338</td>\n",
       "      <td>2</td>\n",
       "      <td>2019-08-23 18:03:25</td>\n",
       "      <td>2019-08-23 18:32:01</td>\n",
       "      <td>34.00248</td>\n",
       "      <td>-117.37936</td>\n",
       "      <td>33.99888</td>\n",
       "      <td>-117.37094</td>\n",
       "      <td>0.543</td>\n",
       "      <td>At Market St - Accident.</td>\n",
       "      <td>...</td>\n",
       "      <td>False</td>\n",
       "      <td>False</td>\n",
       "      <td>False</td>\n",
       "      <td>False</td>\n",
       "      <td>False</td>\n",
       "      <td>False</td>\n",
       "      <td>Day</td>\n",
       "      <td>Day</td>\n",
       "      <td>Day</td>\n",
       "      <td>Day</td>\n",
       "    </tr>\n",
       "    <tr>\n",
       "      <th>2845338</th>\n",
       "      <td>A-2845339</td>\n",
       "      <td>2</td>\n",
       "      <td>2019-08-23 19:11:30</td>\n",
       "      <td>2019-08-23 19:38:23</td>\n",
       "      <td>32.76696</td>\n",
       "      <td>-117.14806</td>\n",
       "      <td>32.76555</td>\n",
       "      <td>-117.15363</td>\n",
       "      <td>0.338</td>\n",
       "      <td>At Camino Del Rio/Mission Center Rd - Accident.</td>\n",
       "      <td>...</td>\n",
       "      <td>False</td>\n",
       "      <td>False</td>\n",
       "      <td>False</td>\n",
       "      <td>False</td>\n",
       "      <td>False</td>\n",
       "      <td>False</td>\n",
       "      <td>Day</td>\n",
       "      <td>Day</td>\n",
       "      <td>Day</td>\n",
       "      <td>Day</td>\n",
       "    </tr>\n",
       "    <tr>\n",
       "      <th>2845339</th>\n",
       "      <td>A-2845340</td>\n",
       "      <td>2</td>\n",
       "      <td>2019-08-23 19:00:21</td>\n",
       "      <td>2019-08-23 19:28:49</td>\n",
       "      <td>33.77545</td>\n",
       "      <td>-117.84779</td>\n",
       "      <td>33.77740</td>\n",
       "      <td>-117.85727</td>\n",
       "      <td>0.561</td>\n",
       "      <td>At Glassell St/Grand Ave - Accident. in the ri...</td>\n",
       "      <td>...</td>\n",
       "      <td>False</td>\n",
       "      <td>False</td>\n",
       "      <td>False</td>\n",
       "      <td>False</td>\n",
       "      <td>False</td>\n",
       "      <td>False</td>\n",
       "      <td>Day</td>\n",
       "      <td>Day</td>\n",
       "      <td>Day</td>\n",
       "      <td>Day</td>\n",
       "    </tr>\n",
       "    <tr>\n",
       "      <th>2845340</th>\n",
       "      <td>A-2845341</td>\n",
       "      <td>2</td>\n",
       "      <td>2019-08-23 19:00:21</td>\n",
       "      <td>2019-08-23 19:29:42</td>\n",
       "      <td>33.99246</td>\n",
       "      <td>-118.40302</td>\n",
       "      <td>33.98311</td>\n",
       "      <td>-118.39565</td>\n",
       "      <td>0.772</td>\n",
       "      <td>At CA-90/Marina Fwy/Jefferson Blvd - Accident.</td>\n",
       "      <td>...</td>\n",
       "      <td>False</td>\n",
       "      <td>False</td>\n",
       "      <td>False</td>\n",
       "      <td>False</td>\n",
       "      <td>False</td>\n",
       "      <td>False</td>\n",
       "      <td>Day</td>\n",
       "      <td>Day</td>\n",
       "      <td>Day</td>\n",
       "      <td>Day</td>\n",
       "    </tr>\n",
       "    <tr>\n",
       "      <th>2845341</th>\n",
       "      <td>A-2845342</td>\n",
       "      <td>2</td>\n",
       "      <td>2019-08-23 18:52:06</td>\n",
       "      <td>2019-08-23 19:21:31</td>\n",
       "      <td>34.13393</td>\n",
       "      <td>-117.23092</td>\n",
       "      <td>34.13736</td>\n",
       "      <td>-117.23934</td>\n",
       "      <td>0.537</td>\n",
       "      <td>At Highland Ave/Arden Ave - Accident.</td>\n",
       "      <td>...</td>\n",
       "      <td>False</td>\n",
       "      <td>False</td>\n",
       "      <td>False</td>\n",
       "      <td>False</td>\n",
       "      <td>False</td>\n",
       "      <td>False</td>\n",
       "      <td>Day</td>\n",
       "      <td>Day</td>\n",
       "      <td>Day</td>\n",
       "      <td>Day</td>\n",
       "    </tr>\n",
       "  </tbody>\n",
       "</table>\n",
       "<p>5 rows × 47 columns</p>\n",
       "</div>"
      ],
      "text/plain": [
       "                ID  Severity           Start_Time             End_Time  \\\n",
       "2845337  A-2845338         2  2019-08-23 18:03:25  2019-08-23 18:32:01   \n",
       "2845338  A-2845339         2  2019-08-23 19:11:30  2019-08-23 19:38:23   \n",
       "2845339  A-2845340         2  2019-08-23 19:00:21  2019-08-23 19:28:49   \n",
       "2845340  A-2845341         2  2019-08-23 19:00:21  2019-08-23 19:29:42   \n",
       "2845341  A-2845342         2  2019-08-23 18:52:06  2019-08-23 19:21:31   \n",
       "\n",
       "         Start_Lat  Start_Lng   End_Lat    End_Lng  Distance(mi)  \\\n",
       "2845337   34.00248 -117.37936  33.99888 -117.37094         0.543   \n",
       "2845338   32.76696 -117.14806  32.76555 -117.15363         0.338   \n",
       "2845339   33.77545 -117.84779  33.77740 -117.85727         0.561   \n",
       "2845340   33.99246 -118.40302  33.98311 -118.39565         0.772   \n",
       "2845341   34.13393 -117.23092  34.13736 -117.23934         0.537   \n",
       "\n",
       "                                               Description  ...  Roundabout  \\\n",
       "2845337                           At Market St - Accident.  ...       False   \n",
       "2845338    At Camino Del Rio/Mission Center Rd - Accident.  ...       False   \n",
       "2845339  At Glassell St/Grand Ave - Accident. in the ri...  ...       False   \n",
       "2845340     At CA-90/Marina Fwy/Jefferson Blvd - Accident.  ...       False   \n",
       "2845341              At Highland Ave/Arden Ave - Accident.  ...       False   \n",
       "\n",
       "        Station   Stop Traffic_Calming Traffic_Signal Turning_Loop  \\\n",
       "2845337   False  False           False          False        False   \n",
       "2845338   False  False           False          False        False   \n",
       "2845339   False  False           False          False        False   \n",
       "2845340   False  False           False          False        False   \n",
       "2845341   False  False           False          False        False   \n",
       "\n",
       "        Sunrise_Sunset Civil_Twilight Nautical_Twilight Astronomical_Twilight  \n",
       "2845337            Day            Day               Day                   Day  \n",
       "2845338            Day            Day               Day                   Day  \n",
       "2845339            Day            Day               Day                   Day  \n",
       "2845340            Day            Day               Day                   Day  \n",
       "2845341            Day            Day               Day                   Day  \n",
       "\n",
       "[5 rows x 47 columns]"
      ]
     },
     "execution_count": 8,
     "metadata": {},
     "output_type": "execute_result"
    }
   ],
   "source": [
    "df.tail(5)"
   ]
  },
  {
   "cell_type": "code",
   "execution_count": 9,
   "metadata": {},
   "outputs": [
    {
     "data": {
      "text/plain": [
       "ID                        object\n",
       "Severity                   int64\n",
       "Start_Time                object\n",
       "End_Time                  object\n",
       "Start_Lat                float64\n",
       "Start_Lng                float64\n",
       "End_Lat                  float64\n",
       "End_Lng                  float64\n",
       "Distance(mi)             float64\n",
       "Description               object\n",
       "Number                   float64\n",
       "Street                    object\n",
       "Side                      object\n",
       "City                      object\n",
       "County                    object\n",
       "State                     object\n",
       "Zipcode                   object\n",
       "Country                   object\n",
       "Timezone                  object\n",
       "Airport_Code              object\n",
       "Weather_Timestamp         object\n",
       "Temperature(F)           float64\n",
       "Wind_Chill(F)            float64\n",
       "Humidity(%)              float64\n",
       "Pressure(in)             float64\n",
       "Visibility(mi)           float64\n",
       "Wind_Direction            object\n",
       "Wind_Speed(mph)          float64\n",
       "Precipitation(in)        float64\n",
       "Weather_Condition         object\n",
       "Amenity                     bool\n",
       "Bump                        bool\n",
       "Crossing                    bool\n",
       "Give_Way                    bool\n",
       "Junction                    bool\n",
       "No_Exit                     bool\n",
       "Railway                     bool\n",
       "Roundabout                  bool\n",
       "Station                     bool\n",
       "Stop                        bool\n",
       "Traffic_Calming             bool\n",
       "Traffic_Signal              bool\n",
       "Turning_Loop                bool\n",
       "Sunrise_Sunset            object\n",
       "Civil_Twilight            object\n",
       "Nautical_Twilight         object\n",
       "Astronomical_Twilight     object\n",
       "dtype: object"
      ]
     },
     "execution_count": 9,
     "metadata": {},
     "output_type": "execute_result"
    }
   ],
   "source": [
    "df.dtypes"
   ]
  },
  {
   "cell_type": "code",
   "execution_count": 10,
   "metadata": {
    "scrolled": true
   },
   "outputs": [
    {
     "data": {
      "text/html": [
       "<div>\n",
       "<style scoped>\n",
       "    .dataframe tbody tr th:only-of-type {\n",
       "        vertical-align: middle;\n",
       "    }\n",
       "\n",
       "    .dataframe tbody tr th {\n",
       "        vertical-align: top;\n",
       "    }\n",
       "\n",
       "    .dataframe thead th {\n",
       "        text-align: right;\n",
       "    }\n",
       "</style>\n",
       "<table border=\"1\" class=\"dataframe\">\n",
       "  <thead>\n",
       "    <tr style=\"text-align: right;\">\n",
       "      <th></th>\n",
       "      <th>ID</th>\n",
       "      <th>Severity</th>\n",
       "      <th>Start_Time</th>\n",
       "      <th>End_Time</th>\n",
       "      <th>Start_Lat</th>\n",
       "      <th>Start_Lng</th>\n",
       "      <th>End_Lat</th>\n",
       "      <th>End_Lng</th>\n",
       "      <th>Distance(mi)</th>\n",
       "      <th>Description</th>\n",
       "      <th>...</th>\n",
       "      <th>Roundabout</th>\n",
       "      <th>Station</th>\n",
       "      <th>Stop</th>\n",
       "      <th>Traffic_Calming</th>\n",
       "      <th>Traffic_Signal</th>\n",
       "      <th>Turning_Loop</th>\n",
       "      <th>Sunrise_Sunset</th>\n",
       "      <th>Civil_Twilight</th>\n",
       "      <th>Nautical_Twilight</th>\n",
       "      <th>Astronomical_Twilight</th>\n",
       "    </tr>\n",
       "  </thead>\n",
       "  <tbody>\n",
       "    <tr>\n",
       "      <th>0</th>\n",
       "      <td>A-1</td>\n",
       "      <td>3</td>\n",
       "      <td>2016-02-08 00:37:08</td>\n",
       "      <td>2016-02-08 06:37:08</td>\n",
       "      <td>40.108910</td>\n",
       "      <td>-83.092860</td>\n",
       "      <td>40.112060</td>\n",
       "      <td>-83.031870</td>\n",
       "      <td>3.230</td>\n",
       "      <td>Between Sawmill Rd/Exit 20 and OH-315/Olentang...</td>\n",
       "      <td>...</td>\n",
       "      <td>False</td>\n",
       "      <td>False</td>\n",
       "      <td>False</td>\n",
       "      <td>False</td>\n",
       "      <td>False</td>\n",
       "      <td>False</td>\n",
       "      <td>Night</td>\n",
       "      <td>Night</td>\n",
       "      <td>Night</td>\n",
       "      <td>Night</td>\n",
       "    </tr>\n",
       "    <tr>\n",
       "      <th>1</th>\n",
       "      <td>A-2</td>\n",
       "      <td>2</td>\n",
       "      <td>2016-02-08 05:56:20</td>\n",
       "      <td>2016-02-08 11:56:20</td>\n",
       "      <td>39.865420</td>\n",
       "      <td>-84.062800</td>\n",
       "      <td>39.865010</td>\n",
       "      <td>-84.048730</td>\n",
       "      <td>0.747</td>\n",
       "      <td>At OH-4/OH-235/Exit 41 - Accident.</td>\n",
       "      <td>...</td>\n",
       "      <td>False</td>\n",
       "      <td>False</td>\n",
       "      <td>False</td>\n",
       "      <td>False</td>\n",
       "      <td>False</td>\n",
       "      <td>False</td>\n",
       "      <td>Night</td>\n",
       "      <td>Night</td>\n",
       "      <td>Night</td>\n",
       "      <td>Night</td>\n",
       "    </tr>\n",
       "    <tr>\n",
       "      <th>2</th>\n",
       "      <td>A-3</td>\n",
       "      <td>2</td>\n",
       "      <td>2016-02-08 06:15:39</td>\n",
       "      <td>2016-02-08 12:15:39</td>\n",
       "      <td>39.102660</td>\n",
       "      <td>-84.524680</td>\n",
       "      <td>39.102090</td>\n",
       "      <td>-84.523960</td>\n",
       "      <td>0.055</td>\n",
       "      <td>At I-71/US-50/Exit 1 - Accident.</td>\n",
       "      <td>...</td>\n",
       "      <td>False</td>\n",
       "      <td>False</td>\n",
       "      <td>False</td>\n",
       "      <td>False</td>\n",
       "      <td>False</td>\n",
       "      <td>False</td>\n",
       "      <td>Night</td>\n",
       "      <td>Night</td>\n",
       "      <td>Night</td>\n",
       "      <td>Day</td>\n",
       "    </tr>\n",
       "    <tr>\n",
       "      <th>3</th>\n",
       "      <td>A-4</td>\n",
       "      <td>2</td>\n",
       "      <td>2016-02-08 06:51:45</td>\n",
       "      <td>2016-02-08 12:51:45</td>\n",
       "      <td>41.062130</td>\n",
       "      <td>-81.537840</td>\n",
       "      <td>41.062170</td>\n",
       "      <td>-81.535470</td>\n",
       "      <td>0.123</td>\n",
       "      <td>At Dart Ave/Exit 21 - Accident.</td>\n",
       "      <td>...</td>\n",
       "      <td>False</td>\n",
       "      <td>False</td>\n",
       "      <td>False</td>\n",
       "      <td>False</td>\n",
       "      <td>False</td>\n",
       "      <td>False</td>\n",
       "      <td>Night</td>\n",
       "      <td>Night</td>\n",
       "      <td>Day</td>\n",
       "      <td>Day</td>\n",
       "    </tr>\n",
       "    <tr>\n",
       "      <th>4</th>\n",
       "      <td>A-5</td>\n",
       "      <td>3</td>\n",
       "      <td>2016-02-08 07:53:43</td>\n",
       "      <td>2016-02-08 13:53:43</td>\n",
       "      <td>39.172393</td>\n",
       "      <td>-84.492792</td>\n",
       "      <td>39.170476</td>\n",
       "      <td>-84.501798</td>\n",
       "      <td>0.500</td>\n",
       "      <td>At Mitchell Ave/Exit 6 - Accident.</td>\n",
       "      <td>...</td>\n",
       "      <td>False</td>\n",
       "      <td>False</td>\n",
       "      <td>False</td>\n",
       "      <td>False</td>\n",
       "      <td>False</td>\n",
       "      <td>False</td>\n",
       "      <td>Day</td>\n",
       "      <td>Day</td>\n",
       "      <td>Day</td>\n",
       "      <td>Day</td>\n",
       "    </tr>\n",
       "    <tr>\n",
       "      <th>...</th>\n",
       "      <td>...</td>\n",
       "      <td>...</td>\n",
       "      <td>...</td>\n",
       "      <td>...</td>\n",
       "      <td>...</td>\n",
       "      <td>...</td>\n",
       "      <td>...</td>\n",
       "      <td>...</td>\n",
       "      <td>...</td>\n",
       "      <td>...</td>\n",
       "      <td>...</td>\n",
       "      <td>...</td>\n",
       "      <td>...</td>\n",
       "      <td>...</td>\n",
       "      <td>...</td>\n",
       "      <td>...</td>\n",
       "      <td>...</td>\n",
       "      <td>...</td>\n",
       "      <td>...</td>\n",
       "      <td>...</td>\n",
       "      <td>...</td>\n",
       "    </tr>\n",
       "    <tr>\n",
       "      <th>2845337</th>\n",
       "      <td>A-2845338</td>\n",
       "      <td>2</td>\n",
       "      <td>2019-08-23 18:03:25</td>\n",
       "      <td>2019-08-23 18:32:01</td>\n",
       "      <td>34.002480</td>\n",
       "      <td>-117.379360</td>\n",
       "      <td>33.998880</td>\n",
       "      <td>-117.370940</td>\n",
       "      <td>0.543</td>\n",
       "      <td>At Market St - Accident.</td>\n",
       "      <td>...</td>\n",
       "      <td>False</td>\n",
       "      <td>False</td>\n",
       "      <td>False</td>\n",
       "      <td>False</td>\n",
       "      <td>False</td>\n",
       "      <td>False</td>\n",
       "      <td>Day</td>\n",
       "      <td>Day</td>\n",
       "      <td>Day</td>\n",
       "      <td>Day</td>\n",
       "    </tr>\n",
       "    <tr>\n",
       "      <th>2845338</th>\n",
       "      <td>A-2845339</td>\n",
       "      <td>2</td>\n",
       "      <td>2019-08-23 19:11:30</td>\n",
       "      <td>2019-08-23 19:38:23</td>\n",
       "      <td>32.766960</td>\n",
       "      <td>-117.148060</td>\n",
       "      <td>32.765550</td>\n",
       "      <td>-117.153630</td>\n",
       "      <td>0.338</td>\n",
       "      <td>At Camino Del Rio/Mission Center Rd - Accident.</td>\n",
       "      <td>...</td>\n",
       "      <td>False</td>\n",
       "      <td>False</td>\n",
       "      <td>False</td>\n",
       "      <td>False</td>\n",
       "      <td>False</td>\n",
       "      <td>False</td>\n",
       "      <td>Day</td>\n",
       "      <td>Day</td>\n",
       "      <td>Day</td>\n",
       "      <td>Day</td>\n",
       "    </tr>\n",
       "    <tr>\n",
       "      <th>2845339</th>\n",
       "      <td>A-2845340</td>\n",
       "      <td>2</td>\n",
       "      <td>2019-08-23 19:00:21</td>\n",
       "      <td>2019-08-23 19:28:49</td>\n",
       "      <td>33.775450</td>\n",
       "      <td>-117.847790</td>\n",
       "      <td>33.777400</td>\n",
       "      <td>-117.857270</td>\n",
       "      <td>0.561</td>\n",
       "      <td>At Glassell St/Grand Ave - Accident. in the ri...</td>\n",
       "      <td>...</td>\n",
       "      <td>False</td>\n",
       "      <td>False</td>\n",
       "      <td>False</td>\n",
       "      <td>False</td>\n",
       "      <td>False</td>\n",
       "      <td>False</td>\n",
       "      <td>Day</td>\n",
       "      <td>Day</td>\n",
       "      <td>Day</td>\n",
       "      <td>Day</td>\n",
       "    </tr>\n",
       "    <tr>\n",
       "      <th>2845340</th>\n",
       "      <td>A-2845341</td>\n",
       "      <td>2</td>\n",
       "      <td>2019-08-23 19:00:21</td>\n",
       "      <td>2019-08-23 19:29:42</td>\n",
       "      <td>33.992460</td>\n",
       "      <td>-118.403020</td>\n",
       "      <td>33.983110</td>\n",
       "      <td>-118.395650</td>\n",
       "      <td>0.772</td>\n",
       "      <td>At CA-90/Marina Fwy/Jefferson Blvd - Accident.</td>\n",
       "      <td>...</td>\n",
       "      <td>False</td>\n",
       "      <td>False</td>\n",
       "      <td>False</td>\n",
       "      <td>False</td>\n",
       "      <td>False</td>\n",
       "      <td>False</td>\n",
       "      <td>Day</td>\n",
       "      <td>Day</td>\n",
       "      <td>Day</td>\n",
       "      <td>Day</td>\n",
       "    </tr>\n",
       "    <tr>\n",
       "      <th>2845341</th>\n",
       "      <td>A-2845342</td>\n",
       "      <td>2</td>\n",
       "      <td>2019-08-23 18:52:06</td>\n",
       "      <td>2019-08-23 19:21:31</td>\n",
       "      <td>34.133930</td>\n",
       "      <td>-117.230920</td>\n",
       "      <td>34.137360</td>\n",
       "      <td>-117.239340</td>\n",
       "      <td>0.537</td>\n",
       "      <td>At Highland Ave/Arden Ave - Accident.</td>\n",
       "      <td>...</td>\n",
       "      <td>False</td>\n",
       "      <td>False</td>\n",
       "      <td>False</td>\n",
       "      <td>False</td>\n",
       "      <td>False</td>\n",
       "      <td>False</td>\n",
       "      <td>Day</td>\n",
       "      <td>Day</td>\n",
       "      <td>Day</td>\n",
       "      <td>Day</td>\n",
       "    </tr>\n",
       "  </tbody>\n",
       "</table>\n",
       "<p>2845342 rows × 47 columns</p>\n",
       "</div>"
      ],
      "text/plain": [
       "                ID  Severity           Start_Time             End_Time  \\\n",
       "0              A-1         3  2016-02-08 00:37:08  2016-02-08 06:37:08   \n",
       "1              A-2         2  2016-02-08 05:56:20  2016-02-08 11:56:20   \n",
       "2              A-3         2  2016-02-08 06:15:39  2016-02-08 12:15:39   \n",
       "3              A-4         2  2016-02-08 06:51:45  2016-02-08 12:51:45   \n",
       "4              A-5         3  2016-02-08 07:53:43  2016-02-08 13:53:43   \n",
       "...            ...       ...                  ...                  ...   \n",
       "2845337  A-2845338         2  2019-08-23 18:03:25  2019-08-23 18:32:01   \n",
       "2845338  A-2845339         2  2019-08-23 19:11:30  2019-08-23 19:38:23   \n",
       "2845339  A-2845340         2  2019-08-23 19:00:21  2019-08-23 19:28:49   \n",
       "2845340  A-2845341         2  2019-08-23 19:00:21  2019-08-23 19:29:42   \n",
       "2845341  A-2845342         2  2019-08-23 18:52:06  2019-08-23 19:21:31   \n",
       "\n",
       "         Start_Lat   Start_Lng    End_Lat     End_Lng  Distance(mi)  \\\n",
       "0        40.108910  -83.092860  40.112060  -83.031870         3.230   \n",
       "1        39.865420  -84.062800  39.865010  -84.048730         0.747   \n",
       "2        39.102660  -84.524680  39.102090  -84.523960         0.055   \n",
       "3        41.062130  -81.537840  41.062170  -81.535470         0.123   \n",
       "4        39.172393  -84.492792  39.170476  -84.501798         0.500   \n",
       "...            ...         ...        ...         ...           ...   \n",
       "2845337  34.002480 -117.379360  33.998880 -117.370940         0.543   \n",
       "2845338  32.766960 -117.148060  32.765550 -117.153630         0.338   \n",
       "2845339  33.775450 -117.847790  33.777400 -117.857270         0.561   \n",
       "2845340  33.992460 -118.403020  33.983110 -118.395650         0.772   \n",
       "2845341  34.133930 -117.230920  34.137360 -117.239340         0.537   \n",
       "\n",
       "                                               Description  ...  Roundabout  \\\n",
       "0        Between Sawmill Rd/Exit 20 and OH-315/Olentang...  ...       False   \n",
       "1                       At OH-4/OH-235/Exit 41 - Accident.  ...       False   \n",
       "2                         At I-71/US-50/Exit 1 - Accident.  ...       False   \n",
       "3                          At Dart Ave/Exit 21 - Accident.  ...       False   \n",
       "4                       At Mitchell Ave/Exit 6 - Accident.  ...       False   \n",
       "...                                                    ...  ...         ...   \n",
       "2845337                           At Market St - Accident.  ...       False   \n",
       "2845338    At Camino Del Rio/Mission Center Rd - Accident.  ...       False   \n",
       "2845339  At Glassell St/Grand Ave - Accident. in the ri...  ...       False   \n",
       "2845340     At CA-90/Marina Fwy/Jefferson Blvd - Accident.  ...       False   \n",
       "2845341              At Highland Ave/Arden Ave - Accident.  ...       False   \n",
       "\n",
       "        Station   Stop Traffic_Calming Traffic_Signal Turning_Loop  \\\n",
       "0         False  False           False          False        False   \n",
       "1         False  False           False          False        False   \n",
       "2         False  False           False          False        False   \n",
       "3         False  False           False          False        False   \n",
       "4         False  False           False          False        False   \n",
       "...         ...    ...             ...            ...          ...   \n",
       "2845337   False  False           False          False        False   \n",
       "2845338   False  False           False          False        False   \n",
       "2845339   False  False           False          False        False   \n",
       "2845340   False  False           False          False        False   \n",
       "2845341   False  False           False          False        False   \n",
       "\n",
       "        Sunrise_Sunset Civil_Twilight Nautical_Twilight Astronomical_Twilight  \n",
       "0                Night          Night             Night                 Night  \n",
       "1                Night          Night             Night                 Night  \n",
       "2                Night          Night             Night                   Day  \n",
       "3                Night          Night               Day                   Day  \n",
       "4                  Day            Day               Day                   Day  \n",
       "...                ...            ...               ...                   ...  \n",
       "2845337            Day            Day               Day                   Day  \n",
       "2845338            Day            Day               Day                   Day  \n",
       "2845339            Day            Day               Day                   Day  \n",
       "2845340            Day            Day               Day                   Day  \n",
       "2845341            Day            Day               Day                   Day  \n",
       "\n",
       "[2845342 rows x 47 columns]"
      ]
     },
     "execution_count": 10,
     "metadata": {},
     "output_type": "execute_result"
    }
   ],
   "source": [
    "df"
   ]
  },
  {
   "cell_type": "code",
   "execution_count": 11,
   "metadata": {},
   "outputs": [
    {
     "name": "stdout",
     "output_type": "stream",
     "text": [
      "<class 'pandas.core.frame.DataFrame'>\n",
      "RangeIndex: 2845342 entries, 0 to 2845341\n",
      "Data columns (total 47 columns):\n",
      " #   Column                 Dtype  \n",
      "---  ------                 -----  \n",
      " 0   ID                     object \n",
      " 1   Severity               int64  \n",
      " 2   Start_Time             object \n",
      " 3   End_Time               object \n",
      " 4   Start_Lat              float64\n",
      " 5   Start_Lng              float64\n",
      " 6   End_Lat                float64\n",
      " 7   End_Lng                float64\n",
      " 8   Distance(mi)           float64\n",
      " 9   Description            object \n",
      " 10  Number                 float64\n",
      " 11  Street                 object \n",
      " 12  Side                   object \n",
      " 13  City                   object \n",
      " 14  County                 object \n",
      " 15  State                  object \n",
      " 16  Zipcode                object \n",
      " 17  Country                object \n",
      " 18  Timezone               object \n",
      " 19  Airport_Code           object \n",
      " 20  Weather_Timestamp      object \n",
      " 21  Temperature(F)         float64\n",
      " 22  Wind_Chill(F)          float64\n",
      " 23  Humidity(%)            float64\n",
      " 24  Pressure(in)           float64\n",
      " 25  Visibility(mi)         float64\n",
      " 26  Wind_Direction         object \n",
      " 27  Wind_Speed(mph)        float64\n",
      " 28  Precipitation(in)      float64\n",
      " 29  Weather_Condition      object \n",
      " 30  Amenity                bool   \n",
      " 31  Bump                   bool   \n",
      " 32  Crossing               bool   \n",
      " 33  Give_Way               bool   \n",
      " 34  Junction               bool   \n",
      " 35  No_Exit                bool   \n",
      " 36  Railway                bool   \n",
      " 37  Roundabout             bool   \n",
      " 38  Station                bool   \n",
      " 39  Stop                   bool   \n",
      " 40  Traffic_Calming        bool   \n",
      " 41  Traffic_Signal         bool   \n",
      " 42  Turning_Loop           bool   \n",
      " 43  Sunrise_Sunset         object \n",
      " 44  Civil_Twilight         object \n",
      " 45  Nautical_Twilight      object \n",
      " 46  Astronomical_Twilight  object \n",
      "dtypes: bool(13), float64(13), int64(1), object(20)\n",
      "memory usage: 773.4+ MB\n"
     ]
    }
   ],
   "source": [
    "df.info()"
   ]
  },
  {
   "cell_type": "code",
   "execution_count": 12,
   "metadata": {},
   "outputs": [
    {
     "data": {
      "text/html": [
       "<div>\n",
       "<style scoped>\n",
       "    .dataframe tbody tr th:only-of-type {\n",
       "        vertical-align: middle;\n",
       "    }\n",
       "\n",
       "    .dataframe tbody tr th {\n",
       "        vertical-align: top;\n",
       "    }\n",
       "\n",
       "    .dataframe thead th {\n",
       "        text-align: right;\n",
       "    }\n",
       "</style>\n",
       "<table border=\"1\" class=\"dataframe\">\n",
       "  <thead>\n",
       "    <tr style=\"text-align: right;\">\n",
       "      <th></th>\n",
       "      <th>Severity</th>\n",
       "      <th>Start_Lat</th>\n",
       "      <th>Start_Lng</th>\n",
       "      <th>End_Lat</th>\n",
       "      <th>End_Lng</th>\n",
       "      <th>Distance(mi)</th>\n",
       "      <th>Number</th>\n",
       "      <th>Temperature(F)</th>\n",
       "      <th>Wind_Chill(F)</th>\n",
       "      <th>Humidity(%)</th>\n",
       "      <th>Pressure(in)</th>\n",
       "      <th>Visibility(mi)</th>\n",
       "      <th>Wind_Speed(mph)</th>\n",
       "      <th>Precipitation(in)</th>\n",
       "    </tr>\n",
       "  </thead>\n",
       "  <tbody>\n",
       "    <tr>\n",
       "      <th>count</th>\n",
       "      <td>2.845342e+06</td>\n",
       "      <td>2.845342e+06</td>\n",
       "      <td>2.845342e+06</td>\n",
       "      <td>2.845342e+06</td>\n",
       "      <td>2.845342e+06</td>\n",
       "      <td>2.845342e+06</td>\n",
       "      <td>1.101431e+06</td>\n",
       "      <td>2.776068e+06</td>\n",
       "      <td>2.375699e+06</td>\n",
       "      <td>2.772250e+06</td>\n",
       "      <td>2.786142e+06</td>\n",
       "      <td>2.774796e+06</td>\n",
       "      <td>2.687398e+06</td>\n",
       "      <td>2.295884e+06</td>\n",
       "    </tr>\n",
       "    <tr>\n",
       "      <th>mean</th>\n",
       "      <td>2.137572e+00</td>\n",
       "      <td>3.624520e+01</td>\n",
       "      <td>-9.711463e+01</td>\n",
       "      <td>3.624532e+01</td>\n",
       "      <td>-9.711439e+01</td>\n",
       "      <td>7.026779e-01</td>\n",
       "      <td>8.089408e+03</td>\n",
       "      <td>6.179356e+01</td>\n",
       "      <td>5.965823e+01</td>\n",
       "      <td>6.436545e+01</td>\n",
       "      <td>2.947234e+01</td>\n",
       "      <td>9.099391e+00</td>\n",
       "      <td>7.395044e+00</td>\n",
       "      <td>7.016940e-03</td>\n",
       "    </tr>\n",
       "    <tr>\n",
       "      <th>std</th>\n",
       "      <td>4.787216e-01</td>\n",
       "      <td>5.363797e+00</td>\n",
       "      <td>1.831782e+01</td>\n",
       "      <td>5.363873e+00</td>\n",
       "      <td>1.831763e+01</td>\n",
       "      <td>1.560361e+00</td>\n",
       "      <td>1.836009e+04</td>\n",
       "      <td>1.862263e+01</td>\n",
       "      <td>2.116097e+01</td>\n",
       "      <td>2.287457e+01</td>\n",
       "      <td>1.045286e+00</td>\n",
       "      <td>2.717546e+00</td>\n",
       "      <td>5.527454e+00</td>\n",
       "      <td>9.348831e-02</td>\n",
       "    </tr>\n",
       "    <tr>\n",
       "      <th>min</th>\n",
       "      <td>1.000000e+00</td>\n",
       "      <td>2.456603e+01</td>\n",
       "      <td>-1.245481e+02</td>\n",
       "      <td>2.456601e+01</td>\n",
       "      <td>-1.245457e+02</td>\n",
       "      <td>0.000000e+00</td>\n",
       "      <td>0.000000e+00</td>\n",
       "      <td>-8.900000e+01</td>\n",
       "      <td>-8.900000e+01</td>\n",
       "      <td>1.000000e+00</td>\n",
       "      <td>0.000000e+00</td>\n",
       "      <td>0.000000e+00</td>\n",
       "      <td>0.000000e+00</td>\n",
       "      <td>0.000000e+00</td>\n",
       "    </tr>\n",
       "    <tr>\n",
       "      <th>25%</th>\n",
       "      <td>2.000000e+00</td>\n",
       "      <td>3.344517e+01</td>\n",
       "      <td>-1.180331e+02</td>\n",
       "      <td>3.344628e+01</td>\n",
       "      <td>-1.180333e+02</td>\n",
       "      <td>5.200000e-02</td>\n",
       "      <td>1.270000e+03</td>\n",
       "      <td>5.000000e+01</td>\n",
       "      <td>4.600000e+01</td>\n",
       "      <td>4.800000e+01</td>\n",
       "      <td>2.931000e+01</td>\n",
       "      <td>1.000000e+01</td>\n",
       "      <td>3.500000e+00</td>\n",
       "      <td>0.000000e+00</td>\n",
       "    </tr>\n",
       "    <tr>\n",
       "      <th>50%</th>\n",
       "      <td>2.000000e+00</td>\n",
       "      <td>3.609861e+01</td>\n",
       "      <td>-9.241808e+01</td>\n",
       "      <td>3.609799e+01</td>\n",
       "      <td>-9.241772e+01</td>\n",
       "      <td>2.440000e-01</td>\n",
       "      <td>4.007000e+03</td>\n",
       "      <td>6.400000e+01</td>\n",
       "      <td>6.300000e+01</td>\n",
       "      <td>6.700000e+01</td>\n",
       "      <td>2.982000e+01</td>\n",
       "      <td>1.000000e+01</td>\n",
       "      <td>7.000000e+00</td>\n",
       "      <td>0.000000e+00</td>\n",
       "    </tr>\n",
       "    <tr>\n",
       "      <th>75%</th>\n",
       "      <td>2.000000e+00</td>\n",
       "      <td>4.016024e+01</td>\n",
       "      <td>-8.037243e+01</td>\n",
       "      <td>4.016105e+01</td>\n",
       "      <td>-8.037338e+01</td>\n",
       "      <td>7.640000e-01</td>\n",
       "      <td>9.567000e+03</td>\n",
       "      <td>7.600000e+01</td>\n",
       "      <td>7.600000e+01</td>\n",
       "      <td>8.300000e+01</td>\n",
       "      <td>3.001000e+01</td>\n",
       "      <td>1.000000e+01</td>\n",
       "      <td>1.000000e+01</td>\n",
       "      <td>0.000000e+00</td>\n",
       "    </tr>\n",
       "    <tr>\n",
       "      <th>max</th>\n",
       "      <td>4.000000e+00</td>\n",
       "      <td>4.900058e+01</td>\n",
       "      <td>-6.711317e+01</td>\n",
       "      <td>4.907500e+01</td>\n",
       "      <td>-6.710924e+01</td>\n",
       "      <td>1.551860e+02</td>\n",
       "      <td>9.999997e+06</td>\n",
       "      <td>1.960000e+02</td>\n",
       "      <td>1.960000e+02</td>\n",
       "      <td>1.000000e+02</td>\n",
       "      <td>5.890000e+01</td>\n",
       "      <td>1.400000e+02</td>\n",
       "      <td>1.087000e+03</td>\n",
       "      <td>2.400000e+01</td>\n",
       "    </tr>\n",
       "  </tbody>\n",
       "</table>\n",
       "</div>"
      ],
      "text/plain": [
       "           Severity     Start_Lat     Start_Lng       End_Lat       End_Lng  \\\n",
       "count  2.845342e+06  2.845342e+06  2.845342e+06  2.845342e+06  2.845342e+06   \n",
       "mean   2.137572e+00  3.624520e+01 -9.711463e+01  3.624532e+01 -9.711439e+01   \n",
       "std    4.787216e-01  5.363797e+00  1.831782e+01  5.363873e+00  1.831763e+01   \n",
       "min    1.000000e+00  2.456603e+01 -1.245481e+02  2.456601e+01 -1.245457e+02   \n",
       "25%    2.000000e+00  3.344517e+01 -1.180331e+02  3.344628e+01 -1.180333e+02   \n",
       "50%    2.000000e+00  3.609861e+01 -9.241808e+01  3.609799e+01 -9.241772e+01   \n",
       "75%    2.000000e+00  4.016024e+01 -8.037243e+01  4.016105e+01 -8.037338e+01   \n",
       "max    4.000000e+00  4.900058e+01 -6.711317e+01  4.907500e+01 -6.710924e+01   \n",
       "\n",
       "       Distance(mi)        Number  Temperature(F)  Wind_Chill(F)  \\\n",
       "count  2.845342e+06  1.101431e+06    2.776068e+06   2.375699e+06   \n",
       "mean   7.026779e-01  8.089408e+03    6.179356e+01   5.965823e+01   \n",
       "std    1.560361e+00  1.836009e+04    1.862263e+01   2.116097e+01   \n",
       "min    0.000000e+00  0.000000e+00   -8.900000e+01  -8.900000e+01   \n",
       "25%    5.200000e-02  1.270000e+03    5.000000e+01   4.600000e+01   \n",
       "50%    2.440000e-01  4.007000e+03    6.400000e+01   6.300000e+01   \n",
       "75%    7.640000e-01  9.567000e+03    7.600000e+01   7.600000e+01   \n",
       "max    1.551860e+02  9.999997e+06    1.960000e+02   1.960000e+02   \n",
       "\n",
       "        Humidity(%)  Pressure(in)  Visibility(mi)  Wind_Speed(mph)  \\\n",
       "count  2.772250e+06  2.786142e+06    2.774796e+06     2.687398e+06   \n",
       "mean   6.436545e+01  2.947234e+01    9.099391e+00     7.395044e+00   \n",
       "std    2.287457e+01  1.045286e+00    2.717546e+00     5.527454e+00   \n",
       "min    1.000000e+00  0.000000e+00    0.000000e+00     0.000000e+00   \n",
       "25%    4.800000e+01  2.931000e+01    1.000000e+01     3.500000e+00   \n",
       "50%    6.700000e+01  2.982000e+01    1.000000e+01     7.000000e+00   \n",
       "75%    8.300000e+01  3.001000e+01    1.000000e+01     1.000000e+01   \n",
       "max    1.000000e+02  5.890000e+01    1.400000e+02     1.087000e+03   \n",
       "\n",
       "       Precipitation(in)  \n",
       "count       2.295884e+06  \n",
       "mean        7.016940e-03  \n",
       "std         9.348831e-02  \n",
       "min         0.000000e+00  \n",
       "25%         0.000000e+00  \n",
       "50%         0.000000e+00  \n",
       "75%         0.000000e+00  \n",
       "max         2.400000e+01  "
      ]
     },
     "execution_count": 12,
     "metadata": {},
     "output_type": "execute_result"
    }
   ],
   "source": [
    "df.describe()"
   ]
  },
  {
   "cell_type": "code",
   "execution_count": 13,
   "metadata": {},
   "outputs": [
    {
     "data": {
      "text/plain": [
       "14"
      ]
     },
     "execution_count": 13,
     "metadata": {},
     "output_type": "execute_result"
    }
   ],
   "source": [
    "numerics = ['int16', 'int32', 'int64', 'float16', 'float32', 'float64']\n",
    "\n",
    "numeric_df = df.select_dtypes(include=numerics)\n",
    "len(numeric_df.columns)"
   ]
  },
  {
   "cell_type": "markdown",
   "metadata": {},
   "source": [
    "# Percentage of missing values per column"
   ]
  },
  {
   "cell_type": "code",
   "execution_count": 14,
   "metadata": {},
   "outputs": [
    {
     "data": {
      "text/plain": [
       "Number                   6.129003e-01\n",
       "Precipitation(in)        1.931079e-01\n",
       "Wind_Chill(F)            1.650568e-01\n",
       "Wind_Speed(mph)          5.550967e-02\n",
       "Wind_Direction           2.592834e-02\n",
       "Humidity(%)              2.568830e-02\n",
       "Weather_Condition        2.482514e-02\n",
       "Visibility(mi)           2.479350e-02\n",
       "Temperature(F)           2.434646e-02\n",
       "Pressure(in)             2.080593e-02\n",
       "Weather_Timestamp        1.783125e-02\n",
       "Airport_Code             3.356011e-03\n",
       "Timezone                 1.285961e-03\n",
       "Nautical_Twilight        1.007612e-03\n",
       "Astronomical_Twilight    1.007612e-03\n",
       "Sunrise_Sunset           1.007612e-03\n",
       "Civil_Twilight           1.007612e-03\n",
       "Zipcode                  4.635647e-04\n",
       "City                     4.814887e-05\n",
       "Street                   7.029032e-07\n",
       "Distance(mi)             0.000000e+00\n",
       "Side                     0.000000e+00\n",
       "Description              0.000000e+00\n",
       "Bump                     0.000000e+00\n",
       "County                   0.000000e+00\n",
       "End_Lat                  0.000000e+00\n",
       "Start_Lng                0.000000e+00\n",
       "Start_Lat                0.000000e+00\n",
       "End_Time                 0.000000e+00\n",
       "Start_Time               0.000000e+00\n",
       "Severity                 0.000000e+00\n",
       "End_Lng                  0.000000e+00\n",
       "State                    0.000000e+00\n",
       "Amenity                  0.000000e+00\n",
       "Country                  0.000000e+00\n",
       "Turning_Loop             0.000000e+00\n",
       "Traffic_Signal           0.000000e+00\n",
       "Traffic_Calming          0.000000e+00\n",
       "Stop                     0.000000e+00\n",
       "Station                  0.000000e+00\n",
       "Roundabout               0.000000e+00\n",
       "Railway                  0.000000e+00\n",
       "No_Exit                  0.000000e+00\n",
       "Junction                 0.000000e+00\n",
       "Give_Way                 0.000000e+00\n",
       "Crossing                 0.000000e+00\n",
       "ID                       0.000000e+00\n",
       "dtype: float64"
      ]
     },
     "execution_count": 14,
     "metadata": {},
     "output_type": "execute_result"
    }
   ],
   "source": [
    "missing_percentages = df.isna().sum().sort_values(ascending=False) / len(df)\n",
    "missing_percentages"
   ]
  },
  {
   "cell_type": "code",
   "execution_count": 15,
   "metadata": {},
   "outputs": [
    {
     "data": {
      "text/plain": [
       "pandas.core.series.Series"
      ]
     },
     "execution_count": 15,
     "metadata": {},
     "output_type": "execute_result"
    }
   ],
   "source": [
    "type(missing_percentages)"
   ]
  },
  {
   "cell_type": "code",
   "execution_count": 16,
   "metadata": {},
   "outputs": [
    {
     "data": {
      "text/plain": [
       "<AxesSubplot:>"
      ]
     },
     "execution_count": 16,
     "metadata": {},
     "output_type": "execute_result"
    },
    {
     "data": {
      "image/png": "[encoded data removed]",
      "text/plain": [
       "<Figure size 432x288 with 1 Axes>"
      ]
     },
     "metadata": {
      "needs_background": "light"
     },
     "output_type": "display_data"
    }
   ],
   "source": [
    "missing_percentages[missing_percentages != 0].plot(kind='barh')"
   ]
  },
  {
   "cell_type": "markdown",
   "metadata": {},
   "source": [
    "# Exploratory Analysis and Visualization"
   ]
  },
  {
   "cell_type": "code",
   "execution_count": 18,
   "metadata": {},
   "outputs": [
    {
     "data": {
      "text/plain": [
       "Index(['ID', 'Severity', 'Start_Time', 'End_Time', 'Start_Lat', 'Start_Lng',\n",
       "       'End_Lat', 'End_Lng', 'Distance(mi)', 'Description', 'Number', 'Street',\n",
       "       'Side', 'City', 'County', 'State', 'Zipcode', 'Country', 'Timezone',\n",
       "       'Airport_Code', 'Weather_Timestamp', 'Temperature(F)', 'Wind_Chill(F)',\n",
       "       'Humidity(%)', 'Pressure(in)', 'Visibility(mi)', 'Wind_Direction',\n",
       "       'Wind_Speed(mph)', 'Precipitation(in)', 'Weather_Condition', 'Amenity',\n",
       "       'Bump', 'Crossing', 'Give_Way', 'Junction', 'No_Exit', 'Railway',\n",
       "       'Roundabout', 'Station', 'Stop', 'Traffic_Calming', 'Traffic_Signal',\n",
       "       'Turning_Loop', 'Sunrise_Sunset', 'Civil_Twilight', 'Nautical_Twilight',\n",
       "       'Astronomical_Twilight'],\n",
       "      dtype='object')"
      ]
     },
     "execution_count": 18,
     "metadata": {},
     "output_type": "execute_result"
    }
   ],
   "source": [
    "df.columns"
   ]
  },
  {
   "cell_type": "code",
   "execution_count": 19,
   "metadata": {},
   "outputs": [
    {
     "data": {
      "text/plain": [
       "0               Dublin\n",
       "1               Dayton\n",
       "2           Cincinnati\n",
       "3                Akron\n",
       "4           Cincinnati\n",
       "              ...     \n",
       "2845337      Riverside\n",
       "2845338      San Diego\n",
       "2845339         Orange\n",
       "2845340    Culver City\n",
       "2845341       Highland\n",
       "Name: City, Length: 2845342, dtype: object"
      ]
     },
     "execution_count": 19,
     "metadata": {},
     "output_type": "execute_result"
    }
   ],
   "source": [
    "df.City"
   ]
  },
  {
   "cell_type": "code",
   "execution_count": 20,
   "metadata": {},
   "outputs": [
    {
     "data": {
      "text/plain": [
       "11682"
      ]
     },
     "execution_count": 20,
     "metadata": {},
     "output_type": "execute_result"
    }
   ],
   "source": [
    "cities = df.City.unique()\n",
    "len(cities)"
   ]
  },
  {
   "cell_type": "code",
   "execution_count": 21,
   "metadata": {},
   "outputs": [
    {
     "data": {
      "text/plain": [
       "Miami          106966\n",
       "Los Angeles     68956\n",
       "Orlando         54691\n",
       "Dallas          41979\n",
       "Houston         39448\n",
       "                ...  \n",
       "Cedar Point         1\n",
       "Cowan               1\n",
       "Elka Park           1\n",
       "Lukeville           1\n",
       "Wimbledon           1\n",
       "Name: City, Length: 11681, dtype: int64"
      ]
     },
     "execution_count": 21,
     "metadata": {},
     "output_type": "execute_result"
    }
   ],
   "source": [
    "cities_by_accident = df.City.value_counts()\n",
    "cities_by_accident"
   ]
  },
  {
   "cell_type": "code",
   "execution_count": 22,
   "metadata": {},
   "outputs": [
    {
     "data": {
      "text/plain": [
       "Miami           106966\n",
       "Los Angeles      68956\n",
       "Orlando          54691\n",
       "Dallas           41979\n",
       "Houston          39448\n",
       "Charlotte        33152\n",
       "Sacramento       32559\n",
       "San Diego        26627\n",
       "Raleigh          22840\n",
       "Minneapolis      22768\n",
       "Portland         20944\n",
       "Nashville        20267\n",
       "Austin           18301\n",
       "Baton Rouge      18182\n",
       "Phoenix          17143\n",
       "Saint Paul       16869\n",
       "New Orleans      16251\n",
       "Atlanta          15622\n",
       "Jacksonville     14967\n",
       "Richmond         14349\n",
       "Tucson           13799\n",
       "San Jose         13377\n",
       "Riverside        13310\n",
       "Kansas City      13298\n",
       "Bakersfield      12044\n",
       "Name: City, dtype: int64"
      ]
     },
     "execution_count": 22,
     "metadata": {},
     "output_type": "execute_result"
    }
   ],
   "source": [
    "cities_by_accident[:25]"
   ]
  },
  {
   "cell_type": "code",
   "execution_count": 23,
   "metadata": {},
   "outputs": [
    {
     "data": {
      "text/plain": [
       "pandas.core.series.Series"
      ]
     },
     "execution_count": 23,
     "metadata": {},
     "output_type": "execute_result"
    }
   ],
   "source": [
    "type(cities_by_accident)"
   ]
  },
  {
   "cell_type": "code",
   "execution_count": 24,
   "metadata": {},
   "outputs": [
    {
     "data": {
      "text/plain": [
       "<AxesSubplot:>"
      ]
     },
     "execution_count": 24,
     "metadata": {},
     "output_type": "execute_result"
    },
    {
     "data": {
      "image/png": "[encoded data removed]",
      "text/plain": [
       "<Figure size 432x288 with 1 Axes>"
      ]
     },
     "metadata": {
      "needs_background": "light"
     },
     "output_type": "display_data"
    }
   ],
   "source": [
    "cities_by_accident[:25].plot(kind='barh')"
   ]
  },
  {
   "cell_type": "code",
   "execution_count": 25,
   "metadata": {},
   "outputs": [],
   "source": [
    "import seaborn as sns\n",
    "sns.set_style(\"darkgrid\")"
   ]
  },
  {
   "cell_type": "code",
   "execution_count": 26,
   "metadata": {},
   "outputs": [
    {
     "data": {
      "text/plain": [
       "<AxesSubplot:xlabel='City', ylabel='Count'>"
      ]
     },
     "execution_count": 26,
     "metadata": {},
     "output_type": "execute_result"
    },
    {
     "data": {
      "image/png": "[encoded data removed]",
      "text/plain": [
       "<Figure size 432x288 with 1 Axes>"
      ]
     },
     "metadata": {},
     "output_type": "display_data"
    }
   ],
   "source": [
    "sns.histplot(cities_by_accident, log_scale=True)"
   ]
  },
  {
   "cell_type": "code",
   "execution_count": 27,
   "metadata": {},
   "outputs": [
    {
     "data": {
      "text/plain": [
       "Pyote           1\n",
       "Ocean Shores    1\n",
       "Mangum          1\n",
       "District 9      1\n",
       "Minter          1\n",
       "               ..\n",
       "Cedar Point     1\n",
       "Cowan           1\n",
       "Elka Park       1\n",
       "Lukeville       1\n",
       "Wimbledon       1\n",
       "Name: City, Length: 1110, dtype: int64"
      ]
     },
     "execution_count": 27,
     "metadata": {},
     "output_type": "execute_result"
    }
   ],
   "source": [
    "cities_by_accident[cities_by_accident == 1]"
   ]
  },
  {
   "cell_type": "markdown",
   "metadata": {},
   "source": [
    "# Start Time"
   ]
  },
  {
   "cell_type": "code",
   "execution_count": 28,
   "metadata": {},
   "outputs": [
    {
     "data": {
      "text/plain": [
       "0          2016-02-08 00:37:08\n",
       "1          2016-02-08 05:56:20\n",
       "2          2016-02-08 06:15:39\n",
       "3          2016-02-08 06:51:45\n",
       "4          2016-02-08 07:53:43\n",
       "                  ...         \n",
       "2845337    2019-08-23 18:03:25\n",
       "2845338    2019-08-23 19:11:30\n",
       "2845339    2019-08-23 19:00:21\n",
       "2845340    2019-08-23 19:00:21\n",
       "2845341    2019-08-23 18:52:06\n",
       "Name: Start_Time, Length: 2845342, dtype: object"
      ]
     },
     "execution_count": 28,
     "metadata": {},
     "output_type": "execute_result"
    }
   ],
   "source": [
    "df.Start_Time"
   ]
  },
  {
   "cell_type": "code",
   "execution_count": 29,
   "metadata": {},
   "outputs": [],
   "source": [
    "df.Start_Time = pd.to_datetime(df.Start_Time)"
   ]
  },
  {
   "cell_type": "code",
   "execution_count": 30,
   "metadata": {},
   "outputs": [
    {
     "name": "stderr",
     "output_type": "stream",
     "text": [
      "C:\\Users\\rehan\\anaconda3\\lib\\site-packages\\seaborn\\distributions.py:2551: FutureWarning: `distplot` is a deprecated function and will be removed in a future version. Please adapt your code to use either `displot` (a figure-level function with similar flexibility) or `histplot` (an axes-level function for histograms).\n",
      "  warnings.warn(msg, FutureWarning)\n"
     ]
    },
    {
     "data": {
      "text/plain": [
       "<AxesSubplot:xlabel='Start_Time'>"
      ]
     },
     "execution_count": 30,
     "metadata": {},
     "output_type": "execute_result"
    },
    {
     "data": {
      "image/png": "[encoded data removed]",
      "text/plain": [
       "<Figure size 432x288 with 1 Axes>"
      ]
     },
     "metadata": {},
     "output_type": "display_data"
    }
   ],
   "source": [
    "sns.distplot(df.Start_Time.dt.hour, bins=24, kde=False, norm_hist=True)"
   ]
  },
  {
   "cell_type": "code",
   "execution_count": 31,
   "metadata": {},
   "outputs": [
    {
     "data": {
      "text/plain": [
       "<AxesSubplot:xlabel='Start_Time'>"
      ]
     },
     "execution_count": 31,
     "metadata": {},
     "output_type": "execute_result"
    },
    {
     "data": {
      "image/png": "[encoded data removed]",
      "text/plain": [
       "<Figure size 432x288 with 1 Axes>"
      ]
     },
     "metadata": {},
     "output_type": "display_data"
    }
   ],
   "source": [
    "sns.distplot(df.Start_Time.dt.dayofweek, bins=7, kde=False, norm_hist=True)"
   ]
  },
  {
   "cell_type": "code",
   "execution_count": 32,
   "metadata": {},
   "outputs": [
    {
     "name": "stderr",
     "output_type": "stream",
     "text": [
      "C:\\Users\\rehan\\anaconda3\\lib\\site-packages\\seaborn\\distributions.py:2551: FutureWarning: `distplot` is a deprecated function and will be removed in a future version. Please adapt your code to use either `displot` (a figure-level function with similar flexibility) or `histplot` (an axes-level function for histograms).\n",
      "  warnings.warn(msg, FutureWarning)\n"
     ]
    },
    {
     "data": {
      "text/plain": [
       "<AxesSubplot:xlabel='Start_Time'>"
      ]
     },
     "execution_count": 32,
     "metadata": {},
     "output_type": "execute_result"
    },
    {
     "data": {
      "image/png": "[encoded data removed]",
      "text/plain": [
       "<Figure size 432x288 with 1 Axes>"
      ]
     },
     "metadata": {},
     "output_type": "display_data"
    }
   ],
   "source": [
    "sundays_start_time = df.Start_Time[df.Start_Time.dt.dayofweek == 6]\n",
    "sns.distplot(sundays_start_time.dt.hour, bins=24, kde=False, norm_hist=True)"
   ]
  },
  {
   "cell_type": "code",
   "execution_count": 34,
   "metadata": {},
   "outputs": [
    {
     "name": "stderr",
     "output_type": "stream",
     "text": [
      "C:\\Users\\rehan\\anaconda3\\lib\\site-packages\\seaborn\\distributions.py:2551: FutureWarning: `distplot` is a deprecated function and will be removed in a future version. Please adapt your code to use either `displot` (a figure-level function with similar flexibility) or `histplot` (an axes-level function for histograms).\n",
      "  warnings.warn(msg, FutureWarning)\n"
     ]
    },
    {
     "data": {
      "text/plain": [
       "<AxesSubplot:xlabel='Start_Time'>"
      ]
     },
     "execution_count": 34,
     "metadata": {},
     "output_type": "execute_result"
    },
    {
     "data": {
      "image/png": "[encoded data removed]",
      "text/plain": [
       "<Figure size 432x288 with 1 Axes>"
      ]
     },
     "metadata": {},
     "output_type": "display_data"
    }
   ],
   "source": [
    "monday_start_time = df.Start_Time[df.Start_Time.dt.dayofweek == 0]\n",
    "sns.distplot(monday_start_time.dt.hour, bins=24, kde=False, norm_hist=True)"
   ]
  },
  {
   "cell_type": "code",
   "execution_count": 37,
   "metadata": {},
   "outputs": [
    {
     "data": {
      "text/plain": [
       "0          40.108910\n",
       "1          39.865420\n",
       "2          39.102660\n",
       "3          41.062130\n",
       "4          39.172393\n",
       "             ...    \n",
       "2845337    34.002480\n",
       "2845338    32.766960\n",
       "2845339    33.775450\n",
       "2845340    33.992460\n",
       "2845341    34.133930\n",
       "Name: Start_Lat, Length: 2845342, dtype: float64"
      ]
     },
     "execution_count": 37,
     "metadata": {},
     "output_type": "execute_result"
    }
   ],
   "source": [
    "df.Start_Lat"
   ]
  },
  {
   "cell_type": "code",
   "execution_count": 38,
   "metadata": {},
   "outputs": [
    {
     "data": {
      "text/plain": [
       "0          -83.092860\n",
       "1          -84.062800\n",
       "2          -84.524680\n",
       "3          -81.537840\n",
       "4          -84.492792\n",
       "              ...    \n",
       "2845337   -117.379360\n",
       "2845338   -117.148060\n",
       "2845339   -117.847790\n",
       "2845340   -118.403020\n",
       "2845341   -117.230920\n",
       "Name: Start_Lng, Length: 2845342, dtype: float64"
      ]
     },
     "execution_count": 38,
     "metadata": {},
     "output_type": "execute_result"
    }
   ],
   "source": [
    "df.Start_Lng"
   ]
  },
  {
   "cell_type": "code",
   "execution_count": 39,
   "metadata": {},
   "outputs": [],
   "source": [
    "sample_df = df.sample(int(0.1 * len(df)))"
   ]
  },
  {
   "cell_type": "code",
   "execution_count": 40,
   "metadata": {},
   "outputs": [
    {
     "data": {
      "text/plain": [
       "<AxesSubplot:xlabel='Start_Lng', ylabel='Start_Lat'>"
      ]
     },
     "execution_count": 40,
     "metadata": {},
     "output_type": "execute_result"
    },
    {
     "data": {
      "image/png": "[encoded data removed]",
      "text/plain": [
       "<Figure size 432x288 with 1 Axes>"
      ]
     },
     "metadata": {},
     "output_type": "display_data"
    }
   ],
   "source": [
    "sns.scatterplot(x=sample_df.Start_Lng, y=sample_df.Start_Lat, size=0.001)"
   ]
  },
  {
   "cell_type": "code",
   "execution_count": 43,
   "metadata": {},
   "outputs": [
    {
     "name": "stderr",
     "output_type": "stream",
     "text": [
      "ERROR: After October 2020 you may experience errors when installing or updating packages. This is because pip will change the way that it resolves dependency conflicts.\n",
      "\n",
      "We recommend you use --use-feature=2020-resolver to test your packages with the new resolver before it becomes the default.\n",
      "\n",
      "selenium 4.1.3 requires urllib3[secure,socks]~=1.26, but you'll have urllib3 1.25.11 which is incompatible.\n"
     ]
    },
    {
     "name": "stdout",
     "output_type": "stream",
     "text": [
      "Collecting folium\n",
      "  Downloading folium-0.12.1.post1-py2.py3-none-any.whl (95 kB)\n",
      "Requirement already satisfied: jinja2>=2.9 in c:\\users\\rehan\\anaconda3\\lib\\site-packages (from folium) (2.11.2)\n",
      "Collecting branca>=0.3.0\n",
      "  Downloading branca-0.5.0-py3-none-any.whl (24 kB)\n",
      "Requirement already satisfied: numpy in c:\\users\\rehan\\anaconda3\\lib\\site-packages (from folium) (1.22.3)\n",
      "Requirement already satisfied: requests in c:\\users\\rehan\\anaconda3\\lib\\site-packages (from folium) (2.24.0)\n",
      "Requirement already satisfied: MarkupSafe>=0.23 in c:\\users\\rehan\\anaconda3\\lib\\site-packages (from jinja2>=2.9->folium) (2.0.1)\n",
      "Requirement already satisfied: certifi>=2017.4.17 in c:\\users\\rehan\\anaconda3\\lib\\site-packages (from requests->folium) (2020.6.20)\n",
      "Collecting urllib3!=1.25.0,!=1.25.1,<1.26,>=1.21.1\n",
      "  Downloading urllib3-1.25.11-py2.py3-none-any.whl (127 kB)\n",
      "Requirement already satisfied: idna<3,>=2.5 in c:\\users\\rehan\\anaconda3\\lib\\site-packages (from requests->folium) (2.10)\n",
      "Requirement already satisfied: chardet<4,>=3.0.2 in c:\\users\\rehan\\anaconda3\\lib\\site-packages (from requests->folium) (3.0.4)\n",
      "Installing collected packages: branca, folium, urllib3\n",
      "  Attempting uninstall: urllib3\n",
      "    Found existing installation: urllib3 1.26.9\n",
      "    Uninstalling urllib3-1.26.9:\n",
      "      Successfully uninstalled urllib3-1.26.9\n",
      "Successfully installed branca-0.5.0 folium-0.12.1.post1 urllib3-1.25.11\n"
     ]
    }
   ],
   "source": [
    "!pip install folium"
   ]
  },
  {
   "cell_type": "code",
   "execution_count": 44,
   "metadata": {},
   "outputs": [],
   "source": [
    "import folium"
   ]
  },
  {
   "cell_type": "code",
   "execution_count": 45,
   "metadata": {},
   "outputs": [
    {
     "data": {
      "text/plain": [
       "(40.10891, -83.09286)"
      ]
     },
     "execution_count": 45,
     "metadata": {},
     "output_type": "execute_result"
    }
   ],
   "source": [
    "lat, lon = df.Start_Lat[0], df.Start_Lng[0]\n",
    "lat, lon"
   ]
  },
  {
   "cell_type": "code",
   "execution_count": 46,
   "metadata": {},
   "outputs": [
    {
     "name": "stdout",
     "output_type": "stream",
     "text": [
      "1447281    36.176587\n",
      "2813100    45.453460\n",
      "656581     39.872764\n",
      "790578     37.594646\n",
      "2449258    42.817480\n",
      "             ...    \n",
      "898564     25.696370\n",
      "1560449    37.182851\n",
      "2374005    42.569170\n",
      "925132     35.004316\n",
      "1501555    38.761639\n",
      "Name: Start_Lat, Length: 100, dtype: float64\n",
      "1447281    -95.904553\n",
      "2813100   -122.720179\n",
      "656581     -75.294982\n",
      "790578    -121.248604\n",
      "2449258    -84.548160\n",
      "              ...    \n",
      "898564     -80.302169\n",
      "1560449    -93.331480\n",
      "2374005    -73.685110\n",
      "925132     -85.307501\n",
      "1501555   -121.259100\n",
      "Name: Start_Lng, Length: 100, dtype: float64\n"
     ]
    }
   ],
   "source": [
    "for x in df[['Start_Lat', 'Start_Lng']].sample(100).iteritems():\n",
    "    print(x[1])"
   ]
  },
  {
   "cell_type": "code",
   "execution_count": 47,
   "metadata": {},
   "outputs": [
    {
     "data": {
      "text/plain": [
       "<zip at 0x24b2c2aafc0>"
      ]
     },
     "execution_count": 47,
     "metadata": {},
     "output_type": "execute_result"
    }
   ],
   "source": [
    "zip(list(df.Start_Lat), list(df.Start_Lng))"
   ]
  },
  {
   "cell_type": "code",
   "execution_count": 48,
   "metadata": {},
   "outputs": [],
   "source": [
    "from folium.plugins import HeatMap"
   ]
  },
  {
   "cell_type": "code",
   "execution_count": 49,
   "metadata": {},
   "outputs": [],
   "source": [
    "sample_df = df.sample(int(0.001 * len(df)))\n",
    "lat_lon_pairs = list(zip(list(sample_df.Start_Lat), list(sample_df.Start_Lng)))"
   ]
  },
  {
   "cell_type": "code",
   "execution_count": 50,
   "metadata": {},
   "outputs": [
    {
     "data": {
      "text/html": [
       "<div style=\"width:100%;\"><div style=\"position:relative;width:100%;height:0;padding-bottom:60%;\"><span style=\"color:#565656\">Make this Notebook Trusted to load map: File -> Trust Notebook</span><iframe srcdoc=\"&lt;!DOCTYPE html&gt;\n",
       "&lt;head&gt;    \n",
       "    &lt;meta http-equiv=&quot;content-type&quot; content=&quot;text/html; charset=UTF-8&quot; /&gt;\n",
       "    \n",
       "        &lt;script&gt;\n",
       "            L_NO_TOUCH = false;\n",
       "            L_DISABLE_3D = false;\n",
       "        &lt;/script&gt;\n",
       "    \n",
       "    &lt;style&gt;html, body {width: 100%;height: 100%;margin: 0;padding: 0;}&lt;/style&gt;\n",
       "    &lt;style&gt;#map {position:absolute;top:0;bottom:0;right:0;left:0;}&lt;/style&gt;\n",
       "    &lt;script src=&quot;https://cdn.jsdelivr.net/npm/leaflet@1.6.0/dist/leaflet.js&quot;&gt;&lt;/script&gt;\n",
       "    &lt;script src=&quot;https://code.jquery.com/jquery-1.12.4.min.js&quot;&gt;&lt;/script&gt;\n",
       "    &lt;script src=&quot;https://maxcdn.bootstrapcdn.com/bootstrap/3.2.0/js/bootstrap.min.js&quot;&gt;&lt;/script&gt;\n",
       "    &lt;script src=&quot;https://cdnjs.cloudflare.com/ajax/libs/Leaflet.awesome-markers/2.0.2/leaflet.awesome-markers.js&quot;&gt;&lt;/script&gt;\n",
       "    &lt;link rel=&quot;stylesheet&quot; href=&quot;https://cdn.jsdelivr.net/npm/leaflet@1.6.0/dist/leaflet.css&quot;/&gt;\n",
       "    &lt;link rel=&quot;stylesheet&quot; href=&quot;https://maxcdn.bootstrapcdn.com/bootstrap/3.2.0/css/bootstrap.min.css&quot;/&gt;\n",
       "    &lt;link rel=&quot;stylesheet&quot; href=&quot;https://maxcdn.bootstrapcdn.com/bootstrap/3.2.0/css/bootstrap-theme.min.css&quot;/&gt;\n",
       "    &lt;link rel=&quot;stylesheet&quot; href=&quot;https://maxcdn.bootstrapcdn.com/font-awesome/4.6.3/css/font-awesome.min.css&quot;/&gt;\n",
       "    &lt;link rel=&quot;stylesheet&quot; href=&quot;https://cdnjs.cloudflare.com/ajax/libs/Leaflet.awesome-markers/2.0.2/leaflet.awesome-markers.css&quot;/&gt;\n",
       "    &lt;link rel=&quot;stylesheet&quot; href=&quot;https://cdn.jsdelivr.net/gh/python-visualization/folium/folium/templates/leaflet.awesome.rotate.min.css&quot;/&gt;\n",
       "    \n",
       "            &lt;meta name=&quot;viewport&quot; content=&quot;width=device-width,\n",
       "                initial-scale=1.0, maximum-scale=1.0, user-scalable=no&quot; /&gt;\n",
       "            &lt;style&gt;\n",
       "                #map_056321cb50344c710b43909e00c55b6d {\n",
       "                    position: relative;\n",
       "                    width: 100.0%;\n",
       "                    height: 100.0%;\n",
       "                    left: 0.0%;\n",
       "                    top: 0.0%;\n",
       "                }\n",
       "            &lt;/style&gt;\n",
       "        \n",
       "    &lt;script src=&quot;https://cdn.jsdelivr.net/gh/python-visualization/folium@master/folium/templates/leaflet_heat.min.js&quot;&gt;&lt;/script&gt;\n",
       "&lt;/head&gt;\n",
       "&lt;body&gt;    \n",
       "    \n",
       "            &lt;div class=&quot;folium-map&quot; id=&quot;map_056321cb50344c710b43909e00c55b6d&quot; &gt;&lt;/div&gt;\n",
       "        \n",
       "&lt;/body&gt;\n",
       "&lt;script&gt;    \n",
       "    \n",
       "            var map_056321cb50344c710b43909e00c55b6d = L.map(\n",
       "                &quot;map_056321cb50344c710b43909e00c55b6d&quot;,\n",
       "                {\n",
       "                    center: [0, 0],\n",
       "                    crs: L.CRS.EPSG3857,\n",
       "                    zoom: 1,\n",
       "                    zoomControl: true,\n",
       "                    preferCanvas: false,\n",
       "                }\n",
       "            );\n",
       "\n",
       "            \n",
       "\n",
       "        \n",
       "    \n",
       "            var tile_layer_fe4c6bf7ba3eb4e751a6f878faa27a8d = L.tileLayer(\n",
       "                &quot;https://{s}.tile.openstreetmap.org/{z}/{x}/{y}.png&quot;,\n",
       "                {&quot;attribution&quot;: &quot;Data by \\u0026copy; \\u003ca href=\\&quot;http://openstreetmap.org\\&quot;\\u003eOpenStreetMap\\u003c/a\\u003e, under \\u003ca href=\\&quot;http://www.openstreetmap.org/copyright\\&quot;\\u003eODbL\\u003c/a\\u003e.&quot;, &quot;detectRetina&quot;: false, &quot;maxNativeZoom&quot;: 18, &quot;maxZoom&quot;: 18, &quot;minZoom&quot;: 0, &quot;noWrap&quot;: false, &quot;opacity&quot;: 1, &quot;subdomains&quot;: &quot;abc&quot;, &quot;tms&quot;: false}\n",
       "            ).addTo(map_056321cb50344c710b43909e00c55b6d);\n",
       "        \n",
       "    \n",
       "            var heat_map_18f480a0089f3b49322f206f422b5e37 = L.heatLayer(\n",
       "                [[41.764052, -72.693687], [36.156445, -91.921347], [40.131712, -75.369575], [42.46019, -83.22363], [36.140885, -86.700122], [25.714585, -80.413965], [35.300937, -77.917759], [25.845918, -80.247896], [39.55693, -119.55911], [43.74714, -95.396744], [25.7307, -80.317718], [46.673271, -95.667013], [39.001132, -75.455077], [41.92302, -87.96401], [28.700001, -81.556764], [42.238021, -87.944324], [28.53094, -81.38601], [35.001099, -85.319588], [42.946798, -85.68641099999998], [33.447, -112.1001], [38.243082, -122.27916], [45.542443, -122.48405], [44.89004, -93.282111], [31.79375, -111.01973], [34.063893, -117.794455], [33.766342, -117.822187], [29.16079, -82.184845], [37.510485, -121.97145], [34.752616, -92.350012], [33.84355, -84.429985], [37.016355, -120.126298], [38.0191, -121.22099], [34.501803, -118.23382], [34.86184, -82.251452], [26.249627, -80.16664], [33.4804, -112.02158], [38.322209, -81.583021], [34.834335, -82.294771], [34.061809000000004, -118.457189], [33.031066, -80.159768], [39.94217, -74.20881999999997], [36.95889, -76.41058000000002], [38.573802, -121.581112], [35.36313, -97.56546], [40.24019000000001, -75.57200999999998], [30.20707, -97.622784], [34.48046, -79.362306], [40.59884, -111.43318], [29.703201, -82.33475], [43.04294, -87.91611999999998], [38.869109, -77.889325], [27.391916, -82.533026], [36.983427, -122.064308], [34.03729000000001, -118.27081], [40.590124, -80.505452], [40.747866, -74.164043], [36.152939, -95.858431], [30.205455, -97.644573], [34.44202, -119.792722], [37.68139, -77.45156], [28.34569, -81.38237], [37.1152, -121.623631], [33.687635, -117.904498], [34.034823, -118.437431], [43.523602, -119.244835], [33.709149, -78.864016], [37.869956, -121.640246], [42.69873, -73.83627], [37.103779, -121.134203], [40.749546, -112.177695], [33.83449, -84.19485], [32.64764, -96.86243], [41.031089, -111.908692], [27.695818, -80.895066], [33.410297, -117.145515], [34.023951000000004, -118.177328], [39.923683, -86.22395300000002], [37.827302, -122.284558], [36.434621, -119.692889], [39.77208, -84.25348000000002], [25.816079, -80.205999], [30.449971, -91.103054], [40.848851, -73.827095], [43.231469, -75.442375], [37.386803, -121.960773], [37.656336, -122.101569], [39.999697, -121.630669], [35.058434000000005, -90.016407], [42.635807, -73.538655], [41.09678, -74.04393], [40.115664, -75.69431999999998], [31.980761, -83.754926], [34.855721, -82.268186], [33.733073, -117.81446499999998], [41.55183, -73.04714], [34.20519, -118.47347], [37.769677, -122.417729], [32.72952, -117.10687], [37.768008, -121.531572], [40.05285, -74.17987600000002], [34.049971, -117.990493], [27.042526, -82.29774499999998], [45.065413, -93.286188], [29.676711, -95.268731], [33.88738, -84.46471], [35.0187, -85.23969], [33.684940000000005, -117.180847], [33.562846, -112.116196], [36.150858, -95.940362], [34.436775, -118.574937], [34.119826, -117.838639], [34.55797800000001, -118.132558], [47.532304, -122.197276], [29.7247, -95.49035], [27.937942, -82.244564], [27.889977, -82.7197], [33.925224, -118.328775], [43.0356, -87.94112], [38.88776, -76.96181], [36.254272, -120.249987], [35.807194, -90.675621], [41.67426, -87.7391], [33.876293, -118.122033], [35.16438, -80.89478000000003], [29.440147, -98.486852], [33.941905, -118.0443], [33.870020000000004, -117.670896], [35.35467, -119.30565], [38.001276, -122.537256], [38.029038, -84.510357], [32.72565, -116.96893], [35.118171999999994, -80.931454], [34.823409000000005, -82.290612], [25.622715, -80.39326899999998], [32.414549, -86.352871], [33.068057, -117.293001], [35.228072, -80.86128599999998], [39.222884, -121.049501], [41.765457, -72.648842], [36.990799, -122.01761100000002], [28.512829, -81.37899399999998], [32.84028, -97.23337], [40.00864, -75.289781], [39.725456, -121.836769], [37.212902, -75.96706999999998], [41.82031, -88.47287], [40.778295, -74.048025], [30.430015, -81.575621], [26.211529, -81.772506], [44.955517, -93.270197], [34.038776, -118.58555], [35.090208000000004, -77.641642], [33.704516, -117.953243], [38.902413, -77.057794], [37.321875, -121.89929], [35.01794, -85.279696], [40.70071, -73.99519000000002], [30.51435, -86.45913], [33.98495, -118.072375], [28.401569, -81.244633], [28.209451, -82.35353], [38.05963300000001, -77.505036], [28.53546, -81.310448], [29.768157, -95.467707], [38.873793, -77.157666], [33.760401, -78.969812], [33.68148, -84.31313], [33.945459, -118.317735], [42.269195, -84.58199499999998], [38.556682, -121.396754], [44.890725, -93.272544], [37.350779, -120.963045], [34.121204, -117.899396], [33.768440000000005, -84.49486], [34.02767, -117.796093], [33.847072999999995, -118.32887], [33.745279, -84.338243], [35.641294, -78.837192], [38.793797, -90.47618], [32.76547, -117.11009], [34.23487, -118.41216], [38.79531400000001, -77.170887], [45.066636, -93.240956], [26.259801, -80.167366], [45.622261, -121.110116], [40.2511, -111.69585], [42.247127, -87.862687], [39.089635, -121.494869], [32.705731, -96.827183], [37.740299, -122.407848], [33.775405, -78.983164], [25.671695, -80.416505], [41.101881, -73.434666], [29.873005, -95.338731], [34.139804, -117.954522], [26.61305, -81.79741], [34.266239, -109.582582], [34.14668, -117.32047], [45.064212, -93.285738], [47.652644, -122.663931], [38.768143, -112.08478], [32.12304, -103.111953], [41.694269, -91.64171], [33.960014, -118.280502], [34.466525, -118.329727], [25.761827, -80.337232], [30.374058, -97.728471], [45.53959, -122.55983], [39.939167, -111.199152], [42.29193, -84.25556999999998], [32.338824, -110.977496], [39.279012, -76.55334], [25.927722, -80.20473199999998], [36.058984, -79.656468], [25.68491400000001, -80.454059], [41.720937, -87.74083], [34.065824, -117.49424], [33.809513, -117.830077], [40.236931, -75.404837], [33.674161, -85.34800899999998], [32.207818, -110.841072], [28.540123, -81.413569], [40.88517, -74.06735], [43.010031, -73.55018100000002], [28.574446, -81.416151], [36.059657, -95.975529], [26.617055, -81.68946899999997], [25.821911, -80.245999], [25.78875, -80.20004], [34.067454999999995, -117.586766], [41.126396, -77.469404], [40.180079, -75.309818], [40.680001, -73.804253], [39.003848, -122.883528], [42.34958, -83.100811], [38.404779, -121.385818], [34.087166, -117.674068], [27.156958000000003, -81.813289], [39.388443, -123.442264], [35.176624, -89.833027], [34.044639000000004, -84.305661], [36.759038, -76.35334399999998], [38.64157, -121.46269], [43.304876, -122.95657], [47.19499, -120.9606], [44.062331, -123.04843], [37.08397100000001, -120.238516], [42.95765, -88.05852], [43.63809000000001, -95.158585], [44.64925, -93.13666], [34.12856, -118.34664], [34.08724, -117.65454], [38.536517, -77.353537], [25.807464000000003, -80.29297], [39.03671, -76.85049000000002], [34.030698, -118.258155], [34.13561, -117.9727], [39.363217, -123.501198], [25.930265, -80.170223], [39.696872, -75.653769], [45.06949, -93.28209], [38.651951, -121.32766200000002], [46.170855, -123.83828], [36.140757, -95.851114], [33.85994, -118.29386], [25.778655, -80.265325], [39.595547, -84.23795], [39.11209, -94.564874], [28.54387, -81.3973], [25.685169, -80.446102], [30.011762, -95.427879], [47.87767, -122.1098], [45.325851, -118.066959], [37.37849, -122.0678], [35.584661, -79.126289], [47.044732, -113.18668999999998], [30.448995, -87.302229], [44.859385, -93.409819], [37.27797, -121.86428], [42.869684, -73.81402299999998], [33.890262, -117.509765], [45.512975, -122.667749], [26.236847, -80.17279599999998], [44.43394, -121.926673], [37.569, -77.47877], [34.071573, -117.613089], [42.825125, -83.89569300000002], [40.93815, -121.60662], [32.867733, -96.68304], [33.66043, -117.7479], [38.673675, -121.733029], [34.126809, -118.475349], [38.546827, -121.43102], [33.63218, -117.84669], [34.23209, -79.028151], [39.824915, -110.950065], [37.387233, -122.058318], [34.021513, -118.35191299999998], [41.592075, -93.786337], [40.217911, -76.161378], [35.303114, -119.003144], [35.41818400000001, -119.033408], [35.15, -118.996944], [37.849246, -122.489356], [41.88073, -87.72565], [32.83679, -96.91746], [34.006825, -117.895432], [28.449998, -81.469791], [40.19814, -74.75278], [39.869005, -75.313781], [28.600318, -81.418219], [32.733463, -96.919118], [47.59039, -122.25024], [39.9366, -74.962323], [34.059176, -118.183054], [37.383691, -121.970146], [44.344607, -94.190586], [35.20585, -89.76959000000002], [35.183404, -80.753148], [34.092946999999995, -117.475501], [33.850147, -117.875916], [41.54531, -71.47686999999998], [34.066714000000005, -117.448166], [33.148487, -117.334465], [34.128262, -117.505384], [40.03255, -76.31827], [36.143368, -86.737215], [25.906699, -80.187154], [29.848061, -82.533384], [38.72749, -77.201318], [31.695490000000003, -106.3468], [33.976620000000004, -118.281004], [34.900587, -82.336742], [37.21771, -121.98775], [27.824625, -82.728572], [31.885881, -106.41749], [33.675678999999995, -117.840641], [28.50876, -81.415456], [47.436068, -122.269858], [33.681411, -81.872375], [42.67319000000001, -89.0317], [35.356367, -82.456852], [40.559627, -122.238023], [39.263868, -76.56671899999998], [32.65696, -83.74406], [45.50533400000001, -92.929219], [44.916041, -93.274636], [35.25209, -80.972553], [33.86146, -84.29186999999997], [34.017065, -118.279351], [33.864989, -118.047872], [25.68569, -80.365965], [37.961465, -122.507675], [42.05477, -124.26648], [38.028655, -122.116152], [25.732181, -80.379671], [33.988176, -117.902773], [42.273995, -83.441435], [31.86986, -106.4285], [37.67088, -122.1083], [33.936726, -118.307971], [26.05703, -80.16235], [45.992661, -112.473673], [25.645522, -80.386027], [44.968317, -93.088585], [34.056089, -118.255883], [33.87277, -118.273862], [45.02813, -122.97226], [39.148267, -77.237824], [37.298787, -121.874545], [34.787055, -82.568541], [32.645995, -96.78058], [35.572513, -119.349479], [33.698142, -111.884971], [34.09805, -118.24683], [40.728623, -74.103576], [29.516304, -98.693758], [27.298799, -82.498568], [43.222338, -83.601366], [32.4437, -84.970629], [37.6524, -122.09887], [30.40402000000001, -91.05204], [44.88369, -93.13849], [26.365196, -80.119587], [45.551942, -118.464734], [27.447319, -82.531886], [40.827337, -72.947019], [40.854842, -73.9702], [35.05753, -80.81521500000002], [34.152306, -118.112596], [44.98843, -93.34956], [40.275846, -78.97227600000002], [44.88509000000001, -93.13686], [44.862123, -93.258], [39.275291, -77.32127], [40.09188, -76.400162], [40.716937, -74.240335], [32.35559, -90.73101], [33.689221999999994, -117.919198], [35.835267, -78.643473], [33.616436, -93.766711], [38.88300200000001, -77.03134], [35.885841, -78.690664], [32.504181, -93.747065], [37.429828, -122.10316], [43.054078, -76.15434], [29.677511, -95.348589], [30.247735, -81.792585], [35.843559, -78.6435], [29.796005, -95.163091], [33.930005, -117.879859], [40.056694, -122.214917], [47.580008, -122.17816100000002], [29.85771, -95.388051], [34.034184, -118.10854], [47.930934, -97.496694], [41.540356, -72.757008], [26.005882, -80.166751], [38.637507, -121.41618], [33.97552, -118.3847], [34.0819, -117.715982], [41.20897, -73.189501], [44.919667, -93.274493], [38.902201, -94.345136], [29.639047, -95.376798], [38.576764, -121.495], [33.87157, -117.68663], [29.7289, -95.534644], [35.100599, -118.143185], [25.924741, -80.296872], [33.960018, -118.283743], [34.226567, -118.387823], [27.889593, -82.74584], [25.598565, -80.35525200000002], [39.56425, -105.029449], [47.030206, -109.603382], [40.286253, -74.73691099999998], [33.383942, -117.578832], [41.543066, -93.987515], [25.739899, -80.237764], [40.267257, -76.814818], [30.42847, -91.171342], [38.530339, -121.750879], [43.696463, -124.014288], [38.241945, -122.678645], [37.889472, -121.628504], [34.03662, -118.270128], [28.5606, -81.26828], [32.272220000000004, -95.306857], [27.32284000000001, -82.498675], [41.078426, -73.46371500000002], [42.385393, -83.157159], [29.87101, -95.33543], [36.24554000000001, -86.74592], [39.30122, -85.96593], [26.00613, -80.16683], [33.889621000000005, -118.192954], [27.740961, -82.750827], [36.141564, -86.713975], [43.157075, -77.647386], [27.447787, -82.567197], [33.954837, -78.842609], [31.76063, -106.26827], [37.133113, -121.98121100000002], [30.19161, -97.76901], [38.665662, -76.875099], [27.337764, -82.464917], [28.143888, -82.740189], [29.965467, -95.552967], [37.419296, -121.944117], [33.864292, -118.22608], [33.616829, -79.00410600000002], [42.777789, -123.283241], [37.05211, -120.640107], [29.732497, -95.410622], [33.883948, -117.525285], [33.97188, -81.14381999999998], [33.888756, -117.512886], [40.8425, -73.28786], [32.774686, -96.793486], [34.185156, -118.318066], [25.89842, -80.34046], [39.74691, -84.12484], [41.795644, -120.36716], [33.877019, -118.142686], [37.463565, -120.930877], [32.514703999999995, -93.746543], [45.083426, -123.959911], [34.054248, -118.237831], [37.63495, -77.58175200000002], [30.423987, -91.14832], [37.79462, -122.20624], [39.978958, -86.003648], [33.402879, -112.157655], [41.18201, -73.84705], [28.472424, -81.416845], [34.12369, -118.47883], [37.526993, -120.795368], [38.604336, -121.507079], [32.29963, -95.300647], [33.872498, -118.059035], [30.191427, -81.715525], [34.036505, -118.175704], [33.701645, -84.10807700000002], [33.130635, -117.117809], [40.752673, -73.85226], [38.57419, -121.4015], [44.09201, -123.10057], [42.773891, -73.926165], [47.29061, -122.29869], [40.155791, -77.29818399999998], [44.46827, -93.58436], [44.945855, -93.038869], [33.978406, -117.338265], [40.088219, -76.314003], [45.84303900000001, -95.383933], [36.16226, -86.774364], [39.928652, -76.83755], [32.748591999999995, -96.810076], [32.427397, -93.717767], [27.815041, -82.332146], [29.77004, -95.35177], [37.616641, -120.978965], [33.840733, -117.249795], [28.416491, -81.42147], [34.864331, -118.168932], [32.75953, -97.029292], [35.39460800000001, -118.9676], [42.494398, -82.932947], [25.818922, -80.32135], [25.871036, -80.210001], [28.748505, -81.36590799999998], [35.26535, -81.13712], [28.666173, -80.87017800000002], [38.452536, -121.375212], [29.985588, -90.05289499999998], [38.329812, -122.316342], [40.331433, -74.638109], [25.816182, -80.206362], [30.507991, -87.280346], [39.70201, -105.849217], [29.69842, -95.550484], [42.155391, -71.905727], [33.92167, -117.28874], [46.144513, -123.89982], [35.83359, -77.97863000000002], [45.114637, -93.476115], [34.09723, -118.3136], [40.994613, -79.565268], [35.442689, -80.869433], [35.32132, -80.73403], [45.051022, -93.284935], [35.183438, -80.75429799999998], [38.935043, -94.733683], [43.17105, -77.57874], [36.793337, -119.808614], [41.337786, -112.035001], [42.381187, -122.90741], [33.930496000000005, -118.211637], [37.406085, -121.910149], [37.65001, -122.45261], [40.672946, -73.37651], [38.162283, -122.893492], [45.53902, -122.31131], [33.846675, -118.205584], [25.734989, -80.30295600000002], [32.482788, -93.728218], [41.5195, -90.51301], [33.835541, -117.941498], [41.80154, -72.656], [33.90915, -118.2781], [33.85793, -117.37454], [40.59951, -79.94745999999998], [33.794614, -118.104619], [29.641531, -82.40369399999999], [33.927812, -118.271714], [25.598447, -80.37889], [43.160067, -77.607617], [28.044068, -82.679621], [34.260402, -118.192065], [40.858296, -74.420224], [41.88873, -87.88272099999998], [27.936367, -82.310249], [36.452538, -90.585193], [25.887369, -80.210684], [41.41765, -73.263458], [32.662061, -96.882741], [34.0816, -117.72231], [33.37832, -111.893595], [38.001617, -121.754408], [38.242732, -77.501775], [35.031581, -85.16561300000002], [42.40631, -82.95625], [30.390082, -89.99696999999998], [35.78864, -78.649998], [28.481144, -81.458696], [35.416359, -119.045637], [35.252519, -80.977939], [30.38066, -81.67347], [44.30241, -92.68824], [40.248624, -75.244803], [33.884531, -117.632333], [35.737733, -78.589946], [36.051409, -119.002554], [37.540429, -121.924564], [28.472519, -81.40154799999998], [35.77252199999999, -120.16903899999998], [38.2121, -122.14432], [34.075877, -83.90803100000002], [32.315703000000006, -110.976549], [34.07982, -117.62692], [38.94357, -94.53527], [40.826386, -76.844488], [29.731031, -95.404125], [38.929635, -94.704712], [26.72059, -80.135692], [39.934108, -74.209253], [42.87917, -71.48640999999998], [30.365105, -90.420323], [42.44787, -83.21992], [38.820688, -76.887117], [32.647238, -96.94296], [29.86618, -95.406028], [39.40975, -119.74961299999998], [36.043109, -115.183595], [28.53686, -81.55705999999998], [30.202604, -81.559166], [33.641515000000005, -117.139194], [39.66075, -104.83926], [40.67361500000001, -74.199978], [39.330806, -77.670649], [35.21687, -90.03011], [33.679885, -117.8792], [32.659198, -96.891285], [35.07053, -85.143539], [25.702047, -80.33894000000002], [37.932657, -122.058675], [34.153883, -118.376505], [27.981369, -82.332957], [25.925885, -80.166878], [37.618475, -122.150734], [33.699425, -112.152915], [41.803613, -72.545025], [38.275256, -77.450659], [45.58533, -122.67978], [38.57712, -77.317174], [38.442213, -120.857433], [37.238198, -121.762083], [25.598341, -80.381026], [39.578263, -77.656348], [26.16685, -80.13157], [47.994386, -110.48318700000002], [34.030553000000005, -117.645994], [35.151292, -80.839888], [34.352241, -77.884429], [38.90917, -94.39085], [41.415292, -73.574527], [30.435488, -84.280663], [36.97235, -121.87813], [36.7209, -119.898745], [34.035131, -118.333579], [34.402774, -118.455458], [40.85431, -73.9189], [25.685761, -80.446127], [37.052193, -122.07408], [25.714093, -80.428666], [43.040792, -77.661743], [29.98729, -95.42376], [37.46783, -77.52277], [36.706749, -119.772852], [45.521744, -122.665507], [39.28969, -84.4422], [41.194471, -73.195391], [42.461031, -88.994911], [25.866327, -80.211845], [40.5068, -80.00686999999998], [27.752039, -82.671368], [32.744868, -96.813808], [38.58017, -77.322633], [27.388217, -82.4732], [32.079609999999995, -110.80215], [25.947404, -80.148965], [33.880634, -118.275733], [38.002341, -121.832681], [30.172463, -97.799403], [44.24896, -94.0274], [41.814039, -71.439832], [34.243554, -117.31734], [36.759457, -119.830893], [30.471715000000003, -91.08474], [37.295402, -122.08426], [38.02368, -121.97127], [25.910162, -80.211745], [45.567013, -118.458064], [38.434649, -122.6944], [37.784137, -122.18326], [28.514548, -81.376333], [28.565419, -81.172713], [34.159387, -118.463084], [45.518866, -94.289325], [33.85856, -117.87647], [30.281283, -81.620649], [26.13501, -80.16923], [44.031681, -123.858507], [34.02952, -118.21884], [34.988440000000004, -85.47029599999998], [41.247399, -76.995297], [35.849659, -78.58235400000002], [37.38055, -121.95915], [33.42559, -111.891], [46.194471, -123.789765], [26.10564, -80.16904], [38.86798, -104.6827], [29.78633300000001, -95.303201], [35.423431, -119.063627], [38.53825, -121.47365], [38.21115, -122.14608], [32.63132, -83.78107], [39.82948, -75.0874], [37.778081, -122.401165], [25.926394, -80.188175], [35.769, -78.723656], [36.976257, -113.678466], [29.010866, -81.068901], [43.005569, -83.507426], [45.2646, -122.78204], [33.56195, -111.88349], [25.569599, -80.37227800000002], [30.387799, -91.007377], [26.753761, -81.066647], [37.693391, -122.391746], [41.598368, -77.010071], [37.780066, -121.527539], [38.95108, -84.63367], [30.080672, -95.417138], [34.952014, -81.837613], [45.47738, -122.79023], [45.43514, -122.76179], [44.91233, -93.06434], [35.214574, -80.87291], [38.39922, -120.818266], [33.79505, -92.29862], [47.16946, -92.476174], [47.531179, -92.354711], [30.74379, -85.873163], [29.000675, -82.260975], [37.759891, -77.458559], [37.390347, -76.768201], [45.720182, -121.58681], [37.502979, -121.961779], [33.71752, -85.02075], [40.302097, -78.165545], [39.043139, -122.752503], [33.679747, -81.192994], [45.882849, -108.31328899999998], [25.64297, -80.334434], [37.213455, -79.797919], [37.375213, -120.688655], [30.408748, -87.29096], [40.520552, -111.89098], [38.525863, -121.761779], [35.758188, -78.547634], [33.719304, -84.396682], [34.27154, -79.69913000000003], [35.8862, -78.690823], [34.070427, -117.397798], [34.155496, -118.40102], [40.42708, -79.723384], [45.02097, -93.18925], [34.124675, -118.476764], [27.771129, -82.65430500000002], [34.276758, -118.423216], [29.968291, -90.10714], [38.798075, -77.168599], [25.883821, -80.36234], [34.089167, -118.237217], [42.37034, -87.86541], [28.337151, -81.404351], [40.84487100000001, -73.92049300000002], [33.238811, -87.597732], [33.925707, -118.300331], [48.390785, -122.647036], [36.196497, -119.61028600000002], [30.628473, -87.611848], [39.071084, -121.436331], [32.907818, -117.226363], [33.462778, -112.226897], [31.786104, -106.267936], [36.843249, -76.123312], [33.925624, -118.240738], [40.895549, -76.572399], [30.337032, -87.144779], [34.068635, -118.257941], [38.55781, -121.38707], [26.318789, -80.116392], [42.03516, -88.31191], [37.77957, -122.39807], [35.491107, -82.52327700000002], [34.206607, -117.413803], [34.311549, -118.486903], [29.962122, -90.082099], [37.466499, -120.830597], [44.176994, -122.187719], [33.98921, -118.241186], [35.29097700000001, -120.660347], [36.940594, -76.304286], [34.518982, -82.60719300000002], [46.69883, -112.041801], [39.351438, -77.114385], [33.904892, -84.277249], [37.545195, -120.901715], [42.43579, -83.759007], [33.87334, -118.2071], [47.35687, -122.24483], [33.972615999999995, -80.881463], [33.765390999999994, -84.51018], [36.900941, -81.32471600000002], [40.755547, -74.117676], [35.22324000000001, -80.62908], [34.340139, -118.51951], [39.20639, -76.61388000000002], [36.226097, -83.03412], [34.100564, -118.477989], [34.167874, -118.496999], [39.54871, -119.787958], [32.991243, -117.255986], [45.360826, -122.761028], [30.269418, -97.776322], [45.549732, -94.203313], [41.69527, -92.456296], [40.757322, -73.107455], [30.191203, -81.716484], [35.215805, -85.819712], [40.137486, -75.288176], [28.525522, -81.397009], [38.935284, -94.434629], [38.384867, -122.716094], [32.843920000000004, -96.63466], [34.044451, -117.98869], [28.331377000000003, -82.69840699999997], [33.919663, -84.29555699999997], [27.167162, -80.302246], [43.19596, -77.57675], [39.473939, -118.781518], [30.04202, -90.00027], [36.873911, -119.711122], [35.935624, -86.53152800000002], [39.940634, -75.359011], [33.683556, -117.858527], [40.65319, -111.938798], [41.907659, -120.331975], [29.622640000000004, -82.38999], [37.959397, -122.533743], [39.825634, -85.668531], [35.84272, -78.680128], [33.80634000000001, -118.14685], [37.78667, -122.3902], [25.953918, -80.281375], [34.024733000000005, -117.735811], [39.110204, -122.896116], [45.01045, -93.089542], [32.841640000000005, -117.1233], [45.010579, -93.066158], [33.841707, -84.247699], [33.992843, -118.402971], [25.89635, -80.162754], [25.928826, -80.153093], [25.734989, -80.30295600000002], [29.86778, -95.40685], [36.127048, -86.727775], [32.331024, -95.302701], [37.270277, -121.857678], [35.761199, -119.344423], [38.121316, -122.565838], [34.447821999999995, -119.21716], [40.87297, -74.063633], [45.343473, -118.237049], [25.80803, -80.31314499999998], [29.933948, -95.512378], [32.944296, -117.108303], [46.09494, -122.96349], [33.872783, -118.27378799999998], [28.576023, -81.475962], [34.06794, -118.02753], [29.8148, -95.375511], [42.42872, -87.91371], [40.60162, -74.0624], [32.823809999999995, -97.2058], [36.728057, -121.658328], [40.66762, -111.95247], [33.823370000000004, -84.15635], [26.467234, -80.089054], [38.82469, -90.519239], [30.57376, -87.026234], [37.798863, -122.377188], [33.959188, -118.247258], [29.725688, -95.400778], [33.930907, -118.32643], [37.064191, -119.35814], [39.218477, -76.726895], [34.15006, -118.46844], [34.02957, -118.25617], [35.16355, -106.58619], [32.65113, -96.87103], [33.956082, -80.924376], [37.51083, -122.25249], [37.327948, -121.110974], [26.368028, -80.170749], [28.444316, -81.474912], [34.957458, -82.426227], [42.43923, -83.0949], [28.556502, -81.475882], [43.909178, -122.75902], [38.78722, -90.493043], [28.237855, -80.686864], [42.888025, -73.596151], [42.166067, -90.675343], [38.65623, -77.27868000000002], [34.034375, -118.349962], [47.80951, -122.5308], [42.942526, -85.67741], [47.827589, -114.34983], [33.976794, -118.46086], [32.792547, -96.61702], [41.13903, -111.834628], [26.142525, -80.169749], [35.52212, -97.5657], [37.308615, -79.973827], [41.74981, -72.71993], [33.126622, -117.108281], [34.303891, -117.463231], [42.973539, -77.159336], [35.137794, -80.936311], [39.30847, -94.591158], [33.858971999999994, -117.536104], [43.118108, -76.228348], [33.969103999999994, -80.985546], [38.104441, -121.260316], [37.941675, -121.314333], [39.32751, -77.34447], [27.459472, -82.57534799999998], [40.86694, -74.04079], [34.064687, -118.002465], [36.843532, -76.210318], [35.06421, -80.81154000000002], [34.057971, -118.178826], [30.316982, -81.73241800000002], [33.976523, -118.225221], [40.987883, -73.66775200000002], [35.805219, -78.717112], [38.22264000000001, -122.257746], [47.581786, -95.013758], [41.37582800000001, -123.011651], [29.356123, -82.22184], [33.725570000000005, -84.906088], [40.771208, -112.018207], [39.734383, -104.330946], [44.939849, -93.075459], [32.787493, -97.320971], [38.313743, -122.897197], [25.951562, -80.285702], [34.347587, -80.68315799999998], [32.742255, -117.147562], [40.068096, -75.310338], [43.77054, -88.05131], [25.701034, -80.366171], [33.614681, -117.707783], [38.614894, -121.766613], [43.11542, -75.213391], [44.26965, -117.19777], [40.759132, -73.422299], [44.564251, -123.249306], [38.697018, -121.371011], [37.768741, -77.462024], [25.770298, -80.30900600000002], [40.702359, -111.79533700000002], [40.640991, -74.208086], [39.87433, -75.099438], [33.910918, -117.883722], [40.97575300000001, -78.04849499999997], [26.546164, -81.786186], [34.660464000000005, -118.112275], [25.71588, -80.463226], [41.32033, -73.99079], [35.191181, -86.567708], [38.681735, -121.201672], [28.81138300000001, -81.341427], [42.714692, -71.449668], [33.982508, -117.881246], [40.613219, -74.02930500000002], [38.268975, -85.626357], [33.441438, -117.137764], [39.04775, -94.646446], [28.514541, -81.400095], [32.75205, -117.12399], [30.049825, -95.247979], [34.039590000000004, -118.44021], [34.029, -118.004661], [29.944827000000004, -90.078843], [43.153, -77.62423000000003], [39.14649, -76.76980999999998], [42.927417, -85.657927], [36.174701, -86.771191], [40.976546, -76.506399], [30.409722, -91.147582], [33.90643, -117.45682], [33.55819, -112.11347], [36.06083, -80.180529], [28.946715, -81.260574], [43.594631, -116.453629], [29.765485, -95.375586], [40.64728, -74.20296], [33.779118, -117.890586], [29.660568, -81.65837900000002], [36.96736, -121.38685], [37.5813, -122.32546], [40.65392, -74.00832], [26.567376, -80.069485], [38.481714, -121.371969], [40.885671, -77.474064], [32.78885, -96.80247], [37.249157, -122.153927], [33.979440000000004, -118.28036000000002], [38.7859, -76.66444], [40.78315, -73.65428], [40.439504, -80.010048], [37.834718, -122.294693], [41.24322, -111.96995], [26.211757, -81.768506], [33.846193, -118.290383], [34.03078, -118.21791], [32.79769, -96.684597], [32.879486, -96.689695], [37.993501, -122.329607], [33.712149, -117.309633], [37.611951, -77.563429], [43.143449, -77.58829399999998], [32.85027, -79.98746], [39.078856, -77.170171], [25.689146, -80.38287199999998], [44.972008, -117.87947], [34.81968, -82.27634], [33.868687, -79.20022800000002], [30.38931, -91.061751], [38.93597000000001, -94.61153], [36.169048, -86.77528000000002], [36.859059, -121.598334], [48.322216, -122.629159], [45.765827, -111.138019], [25.763143, -80.302529], [41.165524, -124.105714], [43.8257, -72.61515], [40.27933, -74.70115], [28.087074, -82.446641], [29.969446, -90.05020999999998], [34.165503, -118.492347], [38.750807, -76.879373], [33.931695, -117.555953], [28.563734000000004, -81.37786700000002], [34.014534999999995, -118.159076], [42.338432, -123.332503], [37.790084, -122.260015], [45.75986, -123.30114], [35.428043, -94.339803], [36.109153000000006, -86.723166], [28.416743, -81.459671], [35.793944, -78.695454], [43.21293, -123.35498], [40.704785, -111.90353], [26.934622, -80.150364], [26.08732, -80.20665], [34.205492, -118.985141], [39.24549, -84.44774], [45.583852, -118.622721], [42.19754, -88.01865], [39.40981, -77.43568499999998], [47.473222, -121.751421], [42.836548, -83.896199], [34.252414, -119.210986], [42.53584, -83.76932], [40.984898, -73.68656899999998], [40.746054, -73.974965], [40.665271, -78.223927], [40.516279, -76.10818499999998], [33.103629999999995, -117.09195], [33.689248, -117.885641], [27.942963, -82.544907], [42.829082, -78.791128], [37.438427, -77.60385], [38.361482, -122.713779], [40.85853, -111.90496], [33.538540000000005, -112.13434], [33.841106, -112.143868], [40.243342, -111.157921], [40.049109, -75.842471], [34.842651000000004, -118.159591], [45.50275, -122.6733], [28.529636, -81.45940300000002], [28.575209, -81.37540600000001], [35.41362, -119.058771], [45.95427, -93.06504], [38.2593, -104.60523], [30.386424, -87.278163], [38.088596, -122.231795], [39.738772, -84.147295], [41.59532, -93.61476], [45.200404, -93.565773], [41.32302, -73.658136], [37.84828, -122.02786], [39.240751, -76.603493], [42.927667, -85.681721], [45.433011, -122.577853], [32.236672, -110.841095], [30.634554, -81.604127], [34.715219, -92.256199], [32.836862, -96.930404], [33.766298, -117.924357], [37.497193, -77.040182], [44.971772, -93.381525], [38.926438, -121.368573], [37.348546, -79.987249], [33.976912, -118.225225], [33.55927, -117.67314], [33.674523, -117.858272], [33.920272, -117.288368], [40.69661, -111.93893], [28.510225, -81.238946], [39.74016, -105.10013], [33.837224, -117.287603], [39.71744, -86.01083], [36.148874, -86.774749], [34.788067, -82.481291], [30.25118, -97.69596], [27.24232, -82.45141], [47.371246, -122.813536], [35.279642, -80.84685400000002], [33.139871, -117.331925], [25.942301, -80.30958299999998], [33.870759, -117.703451], [39.908963, -75.569404], [42.9768, -83.50658], [40.172022, -121.082984], [37.425467, -122.098573], [37.94486, -122.48414], [34.218636, -117.410944], [35.07976, -81.643247], [34.03025, -118.03243], [37.62788, -122.08163], [32.609213000000004, -97.321003], [43.159634, -77.626548], [33.847666, -78.65320200000002], [33.914629999999995, -117.882614], [37.561801, -121.90605], [32.674204, -117.083239], [29.045532, -81.982661], [36.13984, -86.78759000000002], [33.959845, -84.114035], [38.94178, -94.77887], [38.37606, -121.95028], [37.206676, -77.410427], [28.587288, -81.55082], [36.237477, -86.731431], [33.924233, -117.985509], [33.941026, -118.279677], [42.07794000000001, -121.67503], [35.112140000000004, -110.519769], [46.49785900000001, -111.960573], [39.270517, -76.642333], [30.03636, -89.91138000000002], [28.552925, -81.412657], [41.501617, -73.151729], [26.736564, -80.134963], [34.03946, -81.093755], [40.15048, -74.70002], [32.777709, -96.750692], [40.6768, -73.73188], [43.092636, -83.71513], [40.665711, -73.993724], [27.947792, -82.53092600000002], [38.820849, -76.060223], [34.795506, -82.38301700000002], [41.252021, -79.46552199999998], [34.08299, -117.54462], [37.49189000000001, -121.91919], [40.844065, -73.925967], [40.660991, -74.185767], [37.968812, -121.640932], [25.733369, -80.327475], [33.22337, -111.92356], [43.20507, -77.47462], [37.51004, -77.274941], [37.970356, -121.921966], [33.385490000000004, -111.88461], [43.247498, -122.252866], [40.26883, -74.29399000000002], [36.674768, -78.936625], [33.90144, -117.646922], [27.942963, -82.544907], [39.35400300000001, -76.745799], [41.213304, -111.999996], [35.918772, -78.804932], [32.8227, -97.39335], [41.124819, -73.309025], [33.91328, -118.13539], [26.174615, -80.31221500000002], [46.94882, -105.027366], [44.063447, -123.051778], [35.83909699999999, -78.571537], [34.07175, -118.099592], [25.681806, -80.335412], [36.645477, -121.817212], [35.22502700000001, -89.733889], [28.01321, -82.45484], [38.425658, -77.42094300000002], [25.787565, -80.216225], [45.335983, -94.862525], [35.25823, -80.73633000000002], [33.922443, -118.042006], [39.67516, -74.311577], [42.289595, -123.233708], [34.043026, -118.457754], [34.064820000000005, -118.00151], [32.942012, -97.313218], [28.451003000000004, -81.35939300000003], [33.301790000000004, -111.73938], [35.325591, -118.834086], [34.059104, -118.3762], [35.157204, -89.892808], [32.312968, -86.345447], [45.18911, -123.21683], [37.48374, -122.216927], [36.81871500000001, -121.633104], [42.374813, -83.060215], [40.579612, -75.62630899999998], [38.64765, -77.3136], [38.34598, -122.66702], [39.424618, -121.688152], [38.255698, -77.497489], [38.532217, -121.464697], [28.54840200000001, -81.633347], [45.552666, -122.510287], [33.988941, -117.361096], [41.76981, -72.68240300000002], [41.98632, -87.86878], [34.147037, -118.16025], [39.328277, -77.37012], [32.903764, -117.116557], [36.097085, -86.876154], [33.3796, -111.89265], [42.404319, -83.21826999999998], [34.06899, -118.46328], [45.408466, -93.902019], [25.685735, -80.401713], [45.304988, -93.00269], [38.592805, -77.33438699999998], [41.647217, -93.575855], [43.68207, -70.32446], [30.72264, -92.11652], [40.40155, -74.62939], [29.686465, -95.566665], [33.797346999999995, -84.395496], [33.65263, -112.26822], [33.914454, -117.286024], [40.314489, -74.79261], [42.75772, -73.737987], [38.663992, -121.222824], [33.462959999999995, -112.1972], [41.414948, -74.42395], [38.675872, -121.336561], [46.778642, -92.449172], [34.6643, -92.403699], [28.567801, -81.207809], [45.515485, -122.693263], [33.619833, -84.482858], [27.74106500000001, -82.683375], [38.9406, -94.53798], [34.618236, -82.77415500000002], [37.61822700000001, -77.452309], [38.61731500000001, -121.346093], [25.771572, -80.19170600000002], [33.916149, -118.300394], [28.981951, -81.99288100000003], [42.552913, -79.10584300000002], [35.91649, -78.38559000000002], [46.45249, -92.7301], [33.920612, -118.029112], [40.75327, -74.21083], [37.556902, -79.660005], [45.415572, -122.74389], [28.092901, -82.54495899999998], [27.98435, -82.45384], [34.06191, -118.16527], [30.267018, -81.520227], [40.6998, -111.88935], [33.49558, -86.91309], [38.62837, -121.22151], [38.592944, -76.939807], [29.992815000000004, -90.048869], [32.583979, -93.85089], [35.22589, -89.732412], [36.55547, -119.60607], [30.739979, -86.115426], [38.249805, -122.409575], [36.148874, -86.774749], [37.891986, -121.487662], [42.838708, -83.735185], [44.23976, -95.76456], [39.767725, -79.047782], [34.034713, -118.338296], [35.741709, -78.680695], [41.574092, -87.479023], [33.910943, -81.326497], [46.584104, -112.261958], [36.604481, -119.934943], [29.588238, -81.607794], [42.21997, -121.7888], [25.8664, -80.209826], [34.308722, -119.124439], [36.04638900000001, -95.865881], [34.102558, -80.91897800000002], [40.437551, -74.431031], [34.011462, -118.13083], [25.788594, -80.207409], [43.61799600000001, -122.08081], [47.507683, -92.370783], [37.590891, -121.333876], [27.304017, -80.41456600000002], [34.067366, -117.564127], [25.768632, -80.366883], [36.998873, -76.408163], [26.304040000000004, -80.18047], [40.661007, -111.90147], [37.500602, -77.427983], [41.027337, -85.252565], [40.231799, -76.936976], [38.31996, -120.93776], [25.890186, -80.188322], [34.00993, -117.823352], [38.800572, -104.799845], [41.854447, -122.571412], [44.64527, -93.29625], [44.970538, -93.334364], [40.015805, -75.05242199999998], [34.140764000000004, -118.277491], [38.456723, -78.94447], [33.245905, -117.281521], [39.82879000000001, -75.08715], [34.080008, -117.815805], [25.762392, -80.388733], [34.067464, -117.58678700000002], [38.96901, -76.182707], [30.184036, -97.774744], [34.046147, -118.269339], [41.478929, -112.021926], [30.26462, -82.10075], [29.74114, -95.4583], [34.15315, -118.28681], [32.472416, -86.515357], [39.337294, -77.38010899999998], [39.974208, -75.118432], [35.901441, -78.655417], [33.786823, -84.39081999999998], [33.668951, -112.075378], [25.925188, -80.155876], [37.761955, -121.443391], [45.12482, -93.21324], [36.121765, -86.760975], [35.14913, -80.833115], [38.674755, -120.89959], [25.947379, -80.149636], [34.194590000000005, -82.18979200000003], [32.809585, -96.921528], [44.403616, -123.1104], [39.362649, -121.24349], [26.11696, -80.16858], [28.009581, -80.6385], [36.075249, -95.959032], [32.74682, -97.3192], [39.245299, -76.674066], [25.453695, -80.475224], [34.0173, -118.17555], [36.450506, -119.489436], [30.461718, -91.08471], [32.887405, -96.703527], [34.63636, -86.56679], [36.109053, -81.84867], [34.17011, -84.7583], [38.640504, -121.356295], [40.846059, -73.930479], [33.969777, -118.24829], [41.90097, -88.27689000000002], [39.941341, -75.002053], [29.961886, -90.088317], [25.668353, -80.322839], [40.33552, -75.461901], [25.597668, -80.379487], [40.17687100000001, -75.080794], [35.460527, -119.049085], [34.100564, -118.477989], [40.04857, -80.69046], [41.38946, -82.16136999999998], [38.98778, -84.64299], [35.219931, -112.336725], [38.491501, -112.24558600000002], [39.953281, -75.278251], [30.186975, -85.768359], [43.197509, -77.584715], [38.63001, -90.3658], [38.628043, -121.328315], [39.213468, -94.641179], [34.421325, -119.611212], [37.128394, -76.520235], [37.771786, -122.423393], [47.239161, -122.412017], [25.749846, -80.445589], [33.925606, -118.321377], [42.04341, -86.51416], [38.3278, -121.5769], [41.170309, -112.020775], [34.080062, -117.737413], [32.489975, -80.74961], [25.811663, -80.388201], [40.710304, -73.986562], [34.033959, -118.355227], [35.84970999999999, -78.576665], [38.002823, -122.538434], [27.765702, -82.638977], [43.163172, -77.595905], [25.730205, -80.308886], [35.203639, -111.488977], [34.043432, -117.990306], [32.296308, -95.278927], [33.402594, -86.977593], [36.057269, -86.676755], [37.588264, -121.87126], [40.750324, -73.77910200000002], [40.755382, -73.745867], [29.728852000000003, -95.476374], [30.2924, -81.72413], [42.36395200000001, -87.953725], [34.030354, -118.171156], [45.37087, -122.70935], [37.969909, -122.320442], [30.322123, -97.689128], [34.071745, -117.876992], [34.487414, -118.159514], [41.652632, -93.570489], [29.988511, -90.02946], [35.138013, -80.907163], [36.045842, -117.947212], [39.323047, -120.603792], [42.56471, -83.06994], [32.38539, -84.93077], [43.20345, -77.56187], [44.867049, -93.596911], [32.446499, -93.756807], [34.010690999999994, -118.287228], [37.42120300000001, -121.935399], [35.311485, -109.104291], [30.32107, -81.69324], [34.23274, -118.47299], [35.932941, -78.57714], [45.530281, -117.47993], [40.18096, -74.10131], [35.873762, -78.577877], [34.068355, -117.603413], [43.758057, -123.097998], [33.443997, -112.106543], [28.449998, -81.47030699999998], [34.883052, -120.411662], [41.55673, -87.31106], [26.437786, -81.77967199999998], [38.636638, -121.28242], [38.926609, -94.527772], [40.032179, -74.182175], [35.04803, -85.318154], [33.497505, -80.83874200000002], [33.13774, -117.33085], [25.688377, -80.350889], [34.281778, -118.71289], [30.431063, -91.08038], [29.70698, -95.23271], [29.932379, -90.102786], [36.870964, -76.19551700000002], [25.548734, -80.37715899999998], [32.723019, -117.162931], [39.957014, -75.15545], [25.86933, -80.20588199999997], [41.781221, -73.760847], [27.856196, -82.326554], [27.10017, -82.26496999999998], [33.423982, -82.059513], [33.866342, -117.542382], [39.99327, -74.87442], [39.420885, -76.64829300000002], [39.603061, -86.373451], [44.976664, -93.343201], [34.02745, -118.27449], [37.799717, -122.223812], [36.54119, -119.295877], [25.715085, -80.377962], [38.858171, -77.580642], [40.810095, -76.105592], [33.78373, -118.09149], [37.476764, -122.211517], [28.1896, -82.3863], [40.932994, -91.537533], [35.441284, -119.09351399999998], [40.746826, -73.764197], [34.134687, -117.640747], [38.289714, -77.53089], [41.86968, -87.88883], [32.923, -96.71795], [26.667277, -81.88809499999998], [25.671842, -80.432714], [28.834615000000003, -82.04129499999998], [37.701349, -121.874686], [34.073224, -117.093508], [38.67938, -121.271654], [45.58775, -122.68072], [30.45695, -87.22433000000002], [34.517573, -81.897207], [40.201646, -74.25529300000002], [38.374369, -120.503095], [41.759878, -87.94478000000002], [33.263384, -117.158424], [38.43568, -112.6349], [37.824961, -122.313416], [39.695755, -86.106252], [45.311716, -123.001242], [34.142808, -118.185663], [44.137244, -72.60126899999999], [32.718646, -117.102938], [40.439504, -80.010048], [26.01657, -80.16736999999998], [37.496086, -122.13196299999998], [34.703287, -82.90564], [35.2003, -80.88165], [34.154599, -118.314179], [40.738724, -111.904597], [25.928151, -80.200342], [39.521766, -122.013975], [37.98392, -122.041279], [38.64124, -121.45096], [38.50064, -121.51766], [28.294158000000003, -80.699708], [33.72074, -78.92962], [38.828822, -76.942724], [38.39641, -78.91075], [34.034711, -118.064693], [39.61985, -104.89914], [46.325325, -95.071458], [42.96325, -85.70786], [37.384325, -122.06843899999998], [38.947088, -76.831973], [46.735829, -92.171506], [33.71002, -117.78246], [41.208441, -76.777077], [25.810399, -80.15480500000002], [40.83576, -72.88576], [44.884512, -124.029324], [40.41128, -74.50609], [34.590363, -82.653481], [42.561755, -96.331393], [41.074189, -73.85912900000002], [25.845638, -80.2516], [41.98365, -87.74942], [42.36904000000001, -83.21644], [39.788423, -84.212805], [40.539368, -74.5133], [41.38502, -81.43774], [34.171224, -118.50463899999998], [25.778317, -80.320771], [37.415207, -77.435868], [32.717715000000005, -96.648369], [33.765557, -118.029619], [35.731455, -80.37633000000002], [37.4911, -122.21863], [26.19942, -80.148513], [25.81169, -80.20049], [37.763904, -97.323471], [39.576644, -76.124161], [39.95438, -82.97551999999997], [34.12871, -117.93862], [41.120978, -73.328064], [45.207882, -122.774218], [35.148524, -85.180965], [39.645288, -75.718455], [45.200446, -93.051635], [34.036535, -118.438571], [38.134416, -77.528972], [36.14948, -86.773116], [45.82826, -94.292639], [33.668307, -112.104179], [38.93905, -94.554275], [40.730706, -73.91471700000002], [33.498878000000005, -117.152747], [35.93524, -78.85854], [29.972963, -90.051312], [39.97724, -75.19991], [44.259446, -124.109564], [40.49713300000001, -76.19845600000002], [38.95922, -76.6624], [47.310527, -92.476783], [40.551933, -122.200274], [33.612672, -117.096127], [32.699267, -96.840146], [34.301426, -118.421903], [34.27262, -118.55966], [29.958721, -90.095716], [45.54002, -122.67097], [34.092303, -117.302035], [35.028222, -85.360411], [34.967702, -81.960898], [39.012478, -94.693267], [35.736641, -78.654986], [44.952583, -93.03893], [33.89432, -84.26171], [28.331347, -82.32397900000002], [44.832086, -92.963429], [40.242971, -75.585996], [38.241278, -122.269108], [33.809619, -117.142164], [34.0108, -117.962859], [33.356176, -117.530525], [42.632983, -73.76493], [28.331405, -82.686573], [34.041577000000004, -81.088699], [40.69987, -111.870054], [32.299787, -95.266461], [28.449055, -81.470923], [33.749257, -117.275898], [43.63779, -95.78852], [40.667591, -73.99628299999998], [47.77699000000001, -117.54398], [34.515531, -82.879152], [38.462501, -78.869508], [28.285651, -81.41614399999997], [40.883367, -73.816276], [35.855901, -78.573375], [41.1092, -73.4048], [41.030637, -95.67096], [34.038463, -118.02102], [35.383154, -119.043956], [38.02464000000001, -77.49895], [43.98264, -117.23811], [29.72981, -95.42958], [27.86495, -82.83233800000002], [37.744069, -122.031332], [33.81358, -118.16755], [44.57538, -124.066123], [35.139091, -80.802821], [25.732851, -80.318641], [35.84846500000001, -78.563185], [45.47742, -122.56863], [42.517808, -73.360015], [43.200005, -77.612584], [44.930106, -93.142217], [33.908783, -118.222366], [36.386718, -121.304173], [37.71790900000001, -121.701825], [27.204175, -80.400756], [39.881507, -104.987683], [26.04269, -80.16289], [32.792344, -96.62751], [33.743109000000004, -118.00275], [38.85084000000001, -76.974742], [39.19974000000001, -75.90066], [44.774164, -93.311507], [34.314007000000004, -117.477592], [37.89166, -122.15059], [40.598129, -74.190838], [33.974998, -117.098322], [44.86198, -93.286363], [44.048491, -123.195478], [33.968793, -117.690342], [41.96438, -87.74591], [40.5847, -73.96039], [40.75933, -74.082173], [44.19137, -94.001862], [42.48249000000001, -83.42867], [25.802051, -80.36931], [25.91323, -80.327976], [40.993416, -73.678184], [25.89817, -80.236559], [25.784079, -80.23513], [40.170274, -75.070093], [38.236564, -122.619706], [48.351351, -107.638913], [40.90916, -77.054505], [33.31815, -84.289512], [38.000208, -121.260122], [33.044448, -80.09221], [33.410990000000005, -112.00567], [25.916665, -80.18770699999997], [39.047201, -76.621688], [34.278038, -118.507067], [30.352574, -97.592893], [32.25062, -110.8754], [43.3174, -71.59100000000002], [41.475099, -72.825502], [41.53245, -83.63619], [42.92582700000001, -74.614639], [36.123483, -86.849664], [41.62957, -93.66182], [37.208917, -93.288374], [46.10669, -123.206723], [42.84098, -83.74847700000002], [40.17617, -111.64645], [42.723669, -74.241393], [40.752106, -73.746894], [33.976571, -81.08156899999999], [38.492305, -121.79981399999998], [35.261667, -119.218611], [35.162993, -80.887371], [39.738385, -84.186083], [39.33501, -76.68422], [44.093917, -123.104027], [25.892058, -80.163016], [35.021904, -80.849138], [25.672033, -80.381146], [41.7708, -86.73566], [32.673461, -97.199933], [27.098518, -82.14875500000002], [37.101606, -80.466502], [40.25058, -75.66918000000003], [39.10159, -84.52282], [37.243881, -76.635645], [33.989043, -117.360912], [37.32839, -121.87114], [34.077581, -118.283753], [32.69964, -96.269658], [32.393251, -111.308442], [33.80608400000001, -117.880099], [38.242974, -122.043537], [35.045069, -82.057601], [34.07091, -118.264185], [40.344075, -79.762984], [33.815812, -84.363902], [45.108329, -95.57392], [39.95637, -74.20648], [38.838375, -77.43145799999998], [28.446983000000003, -80.82080400000002], [25.899528, -80.184815], [32.192033, -86.419197], [39.7783, -104.90607], [43.76294, -95.37285], [37.584156, -122.32829], [42.97286500000001, -83.765235], [27.911884000000004, -82.34798599999998], [33.891, -118.266729], [30.265196000000003, -97.750892], [33.673536, -117.755809], [38.819063, -112.495611], [25.949326, -80.148812], [34.07248, -117.93213], [42.898568, -78.897899], [33.856062, -118.011259], [34.051525, -118.260458], [34.50645, -117.906423], [33.921671999999994, -117.288457], [32.986524, -96.935777], [44.92777, -93.34969], [34.07229, -117.93104], [30.362, -97.68559], [38.87935, -77.24844499999998], [27.940882, -82.327283], [39.76455, -105.00165], [32.176518, -81.453786], [32.881574, -84.669348], [34.054353000000006, -118.225758], [39.605315, -77.728604], [26.333428, -81.806251], [37.842598, -122.297583], [33.934521999999994, -118.354833], [35.192095, -89.98048399999998], [33.139540000000004, -84.72718], [37.55303, -122.295648], [38.933111, -77.209328], [32.814718, -96.62819], [33.878682, -118.082274], [29.7164, -95.46007], [38.524875, -121.471697], [45.56703, -122.67874], [40.840208, -73.885768], [25.907639, -80.382961], [42.321222, -88.004699], [39.828797, -76.684967], [34.076467, -118.278454], [28.522063, -81.579312], [33.65905, -117.2953], [44.859012, -93.355175], [27.295886, -82.514095], [40.975883, -78.66642], [44.03608, -123.04556], [34.039195, -118.701635], [34.16531, -118.48926000000002], [25.925691, -80.260582], [33.974652, -118.280597], [33.727276, -81.655591], [25.897284, -80.242864], [39.948012, -75.27842700000002], [37.491236, -122.230522], [34.934704, -119.411211], [36.9878, -121.838325], [47.101398, -123.161643], [34.304129, -117.463869], [40.015805, -75.05242199999998], [39.989347, -75.255782], [37.637801, -121.181797], [33.624697, -117.830804], [38.38326, -81.613969], [39.711565, -123.34596100000002], [34.333894, -118.508605], [35.16708, -111.66883], [37.783183, -121.227099], [40.347772, -75.963646], [25.575622, -80.372399], [33.85018, -118.20532], [34.173149, -118.564453], [33.88465, -118.35272], [37.643058, -122.406002], [32.629154, -117.09598], [35.01359, -85.53662], [29.986006, -90.071382], [43.11829, -73.72663], [34.137729, -112.14834], [34.923574, -120.423533], [39.16494, -76.64451899999997], [39.953119, -75.06216500000002], [32.85402, -117.23224], [33.133574, -117.124589], [40.88760300000001, -73.894124], [41.31991, -73.979537], [36.813029, -121.785603], [37.193344, -121.696661], [25.511586, -80.43419200000002], [38.89567, -76.95191], [29.70165, -95.29513], [33.945365, -118.36823], [37.29426, -121.931773], [42.862589, -73.771856], [33.92447, -117.28853], [41.75761, -72.70055], [33.410810999999995, -112.01126200000002], [28.450911, -81.470836], [32.786264, -117.207135], [37.82628, -122.277102], [34.14124, -84.51904], [39.17561, -94.533429], [34.060908000000005, -117.804728], [28.98447100000001, -81.29251], [27.04972, -82.397476], [30.467716, -87.22699200000002], [36.036349, -119.510564], [25.670897, -80.415666], [40.041188, -111.542199], [30.61418, -81.64794], [47.666027, -117.307877], [40.590672, -122.479402], [33.504345, -86.789547], [39.073466, -76.934434], [33.60167, -80.928724], [39.09393, -94.68078], [33.64693, -84.3982], [36.309669, -121.25562], [29.930348, -90.03631899999998], [40.138218, -77.333359], [33.879207, -118.285192], [33.825429, -118.225048], [40.768626, -74.02355899999998], [38.993164, -78.404375], [25.909181, -80.16930500000002], [35.076052000000004, -118.957921], [25.92958, -80.188317], [37.506022, -77.481151], [33.764666, -80.964184], [36.76841, -119.83631], [25.737922, -80.31981400000002], [40.74717, -73.27614], [46.847536, -96.874998], [41.97496, -88.20707], [32.7723, -97.3194], [25.840771, -80.209347], [39.30651500000001, -76.791459], [38.47433, -121.417908], [32.300596, -80.93504300000002], [34.06511, -117.79784], [36.842447, -76.213241], [34.275509, -118.535066], [42.27459, -85.42505], [34.0723, -117.93211], [40.43126, -80.02659], [37.31568400000001, -77.400325], [39.007646, -94.554702], [36.959665, -76.410912], [33.26914, -87.571511], [36.832768, -76.123073], [35.999558, -78.913602], [35.97962000000001, -79.90432], [41.268757, -75.242999], [30.411901, -81.748163], [44.762025, -93.243052], [36.198329, -86.68812199999998], [32.759698, -97.206552], [43.67932800000001, -94.467397], [39.226888, -78.13685699999998], [33.89076, -118.104734], [32.65633, -96.74473], [30.105746000000003, -81.705564], [25.843623, -80.206304], [28.259415, -81.579798], [25.938449, -80.188624], [41.35072, -72.86763], [41.22283, -111.97603], [45.553732, -122.578625], [41.23715900000001, -73.060714], [32.279437, -95.322411], [30.594946000000004, -83.87099599999998], [34.920645, -82.291002], [28.236385, -82.670866], [42.099748, -121.83708], [30.362396, -91.077902], [25.92593, -80.25581], [30.435336, -91.177242], [45.47045, -122.67813999999998], [35.220661, -80.780429], [33.957755, -118.111433], [40.769896, -73.915109], [42.205948, -87.989693], [45.461736, -110.626498], [29.340823, -81.130868], [30.046745, -95.252942], [34.119658, -117.807205], [34.066511, -117.208489], [40.70088, -78.80318199999998], [34.09394, -117.95541], [38.697513, -77.213914], [45.040582, -93.400692], [45.60475200000001, -94.446276], [38.85161, -76.95916], [33.881459, -117.648505], [25.809446, -80.312034], [25.761814, -80.338151], [32.768993, -96.806861], [42.34283, -122.88869], [45.670333, -110.997459], [38.63123, -90.25052], [38.76278, -77.08428], [34.03011, -117.694521], [34.102222999999995, -118.317107], [25.818544, -80.24668100000002], [42.30308400000001, -88.134599], [34.03524, -118.26965], [25.66993, -80.36176], [34.171243, -118.518511], [40.00717, -83.1186], [39.043075, -94.372439], [37.68647, -122.131694], [45.2042, -93.35773], [41.84573, -87.98379], [34.020212, -117.814998], [28.450977, -81.47777099999998], [32.799602, -96.7841], [38.068188, -120.991155], [36.924287, -76.269847], [37.651459, -122.090436], [44.95205, -93.06522], [37.565536, -122.035082], [30.04906, -95.18384], [40.84947800000001, -73.941796], [41.01927, -73.62923], [33.695838, -117.935133], [37.24827, -121.83147], [37.71033, -122.123722], [45.535269, -122.564291], [41.68786, -87.93097], [38.83872, -94.52908], [33.853973, -117.901593], [39.17777, -84.48708], [39.87963, -121.673315], [26.158372, -81.679852], [38.70376, -121.354264], [45.590719, -122.682078], [45.563467, -122.678714], [42.994456, -77.344982], [44.521119, -92.92448], [33.550402000000005, -84.567611], [37.029283, -77.63891600000002], [37.66361, -122.10584], [44.632348, -121.12957], [47.43965, -122.21788], [37.699255, -121.929515], [37.741041, -121.615798], [34.165185, -118.483624], [44.10277, -121.299074], [37.376657, -121.941782], [35.882511, -78.507698], [33.925407, -117.88029], [38.865818, -77.051565], [25.964724, -80.174237], [33.748196, -117.843259], [43.59001, -119.9817], [40.866002, -111.898994], [34.748886, -79.343637], [33.941413, -117.555459], [31.882978, -106.440385], [40.60711, -74.03321], [35.38894000000001, -119.14552], [32.901107, -96.784237], [39.26646, -104.89562], [45.696705, -121.356112], [41.87326, -87.61726999999998], [34.050046, -118.693467], [26.715477000000003, -80.085471], [34.387602, -119.3013], [37.119847, -121.976042], [35.201144, -80.761979], [40.04428, -76.306872], [41.261875, -111.728787], [28.551918, -81.49074], [37.57458, -77.46122], [34.70427, -118.79465], [42.03588, -94.24077], [37.869099, -122.040449], [32.805748, -96.718534], [40.43859000000001, -80.00612], [35.659987, -120.465229], [34.270454, -118.632323], [42.672195, -73.756045], [36.417891, -80.23275799999998], [40.90765, -73.88631], [32.18991, -110.9091], [33.76513, -84.52126], [33.568071, -117.210098], [32.809825, -96.808101], [39.28573, -84.4238], [36.324401, -119.08784], [41.198076, -80.151411], [29.770025, -95.218346], [43.612235, -116.354731], [41.50857, -72.808512], [40.976461, -73.69984000000002], [29.4775, -98.404105], [34.344517, -117.920952], [44.981179, -93.287471], [36.10972, -86.681567], [45.632897, -121.098255], [25.900718, -80.17783100000003], [34.148201, -118.033214], [40.7761, -73.66771999999997], [40.73074, -74.22239], [29.744242, -95.362695], [47.714342, -122.32686499999998], [33.932888, -118.030183], [38.848154, -77.422551], [33.99557, -118.17683], [36.322291, -119.402929], [25.807451, -80.2922], [47.557344, -122.338997], [40.73896, -74.06236], [39.758394, -78.19090899999998], [37.536624, -120.75718], [26.186683, -80.147021], [41.99299, -83.36386], [36.601452, -80.736942], [35.541361, -90.162423], [39.00511, -77.08173000000002], [29.117044, -82.21854499999998], [35.38373, -96.66605], [40.652321, -73.866373], [28.063861, -82.504111], [43.02003, -85.67147], [47.57147, -122.36218], [43.123612, -124.17485], [38.3182, -122.71448999999998], [32.972382, -80.855584], [32.27227, -110.93525], [40.296725, -76.825686], [37.783193, -121.221919], [34.030634, -118.40511], [26.248569, -80.13646899999998], [34.001998, -117.948075], [25.685336, -80.44610899999998], [25.627596, -80.377561], [40.487869, -80.00910400000002], [40.354381, -74.1232], [41.8079, -88.07599], [28.047312, -82.352496], [37.834718, -122.294693], [42.356554, -122.865976], [34.411747, -119.862612], [25.810679, -80.18160999999998], [33.564165, -117.662377], [28.537969, -81.459285], [45.783194, -108.056663], [34.185634, -84.50657199999998], [38.018757, -121.937459], [44.862272, -93.237822], [37.870203, -122.192604], [42.49851, -71.11794], [36.167188, -119.082911], [38.671045, -121.349617], [27.276767, -82.530637], [33.861733, -117.538187], [32.77305, -117.04331], [33.931015, -118.300299], [44.955101, -93.189045], [28.483057, -81.330864], [37.450343, -113.229464], [45.14418, -122.72938], [34.135566, -117.587909], [41.26323, -96.07109], [37.928199, -77.464462], [37.70078, -122.02652], [34.32274, -117.39838], [32.800126, -96.822272], [32.177914, -110.952354], [28.003205, -82.453263], [32.73296, -117.17261], [38.181856, -77.27707], [43.132618, -124.171971], [47.32252, -122.59193], [34.135040000000004, -117.62101], [32.721711, -117.149501], [36.03802, -86.64671], [45.525378, -122.662061], [44.061644, -123.089244], [33.913255, -118.137595], [32.77444000000001, -117.2079], [33.91246, -117.28458], [40.0233, -76.196951], [38.857891, -94.529027], [42.915458, -83.65535200000002], [42.01199, -87.7887], [42.929237, -85.559929], [34.078889000000004, -117.544624], [41.691623, -108.89078700000002], [36.309717, -121.88609], [30.327254, -81.606713], [35.057282, -120.503132], [34.060539, -118.215215], [33.988551, -118.065382], [38.5466, -77.34431], [40.542135, -75.6961], [34.015721, -117.339941], [26.390715000000004, -81.77286], [25.943287, -80.187758], [37.82181, -121.215854], [40.028311, -74.81965100000002], [35.354309, -119.237198], [40.967577, -74.154077], [35.871864, -82.481381], [35.900764, -78.606409], [32.287461, -110.978274], [44.586406, -93.13677], [34.342274, -118.505506], [34.112982, -118.177284], [34.633959000000004, -82.595525], [34.251, -118.472416], [33.432244, -86.74104], [34.295406, -82.375785], [34.016107, -84.56890200000002], [33.9277, -118.25596000000002], [43.185751, -77.813653], [42.34506, -88.0699], [36.152054, -86.806221], [34.221194, -118.50265], [43.18366500000001, -76.627145], [40.798856, -74.18978299999998], [35.273205, -80.846682], [37.134477, -79.293678], [33.586012, -117.689636], [38.530089, -81.644757], [40.035389, -75.570803], [25.979491, -80.1658], [36.64466, -78.136481], [41.840084, -77.638544], [41.288713, -72.816792], [45.176542, -93.866189], [38.815356, -120.016643], [35.803837, -78.707025], [41.345052, -74.19004100000002], [33.72723, -117.83477], [45.322347, -122.769523], [37.843228, -122.48594], [40.209237, -74.079398], [29.797346, -95.570087], [39.567734, -78.260666], [34.02693, -117.916627], [40.658648, -74.186993], [36.617149, -119.30411399999998], [36.01826, -78.95040999999998], [37.387069, -121.001235], [38.536067, -77.729297], [40.80527100000001, -73.250752], [40.28015900000001, -78.80256], [40.168267, -75.126071], [37.711385, -122.127566], [39.17945, -94.58134], [38.826164, -76.73476600000002], [37.669247, -122.093792], [40.050717, -80.724971], [40.982445, -85.085629], [37.72161, -122.17944], [42.462387, -73.59234000000002], [40.585204, -122.360732], [32.756801, -96.918011], [40.092661, -75.125427], [29.993019, -90.073359], [34.173162, -118.535988], [40.580687, -74.284403], [41.320058, -77.094048], [33.63811, -112.2203], [33.560759999999995, -81.9419], [32.83185, -96.63149], [28.037095, -82.072775], [40.85159, -74.01513], [25.714375, -80.415451], [37.03833, -76.39254], [30.451376, -91.190522], [32.630757, -86.491445], [38.06849, -122.22627], [33.65153, -117.74075], [33.13325, -97.04299], [34.558714, -118.675742], [36.965156, -120.068503], [35.907454, -78.94328900000002], [35.12151, -85.086013], [33.4608, -112.27247], [37.660387, -122.10404], [33.857859000000005, -118.286208], [43.825911, -95.195385], [29.974737, -90.063976], [37.711826, -122.453838], [40.943717, -73.847184], [32.750071000000005, -97.319566], [38.646444, -121.377296], [28.51173, -81.39707], [25.806911, -80.31311600000002], [29.620801, -95.293124], [42.25463900000001, -121.797939], [43.08722, -77.60922], [34.038657, -118.277035], [30.395357, -86.512974], [39.82559000000001, -111.51027], [25.581036, -80.393982], [28.538522, -81.365215], [36.903043, -76.23957], [32.704473, -96.667599], [38.63206, -75.805996], [40.71057, -74.14837], [35.259714, -118.913191], [34.033739000000004, -117.325189], [30.663765, -88.053775], [39.083465, -85.93258], [47.83748, -122.12405], [34.18441, -118.399909], [41.87548, -87.64197], [32.747812, -117.108973], [33.827442, -84.09581], [33.98915, -118.280163], [28.047874, -82.352599], [40.73727, -73.5964], [34.229611, -118.259485], [41.129989, -87.265507], [39.206459, -76.587251], [34.13443, -118.073141], [32.723991, -117.155492], [40.899921, -85.88865600000003], [25.634768, -80.436666], [37.448154, -77.423175], [41.200908, -73.272038], [25.591661, -80.344963], [25.76972, -80.333946], [37.881746, -122.307966], [27.887, -82.787023], [33.501139, -112.221819], [28.452240000000003, -81.052697], [47.870288, -114.270051], [33.559343, -117.672864], [26.330523, -81.80765799999998], [33.74354, -79.353654], [32.726229, -117.244527], [39.314043, -76.492993], [25.685172, -80.419318], [36.25934, -94.1505], [31.817353000000004, -106.446117], [33.597157, -80.91626099999998], [41.751553, -87.625424], [30.549825, -84.592089], [38.868195, -77.047359], [37.633779, -122.409318], [25.699599, -80.382101], [27.95558, -82.49075], [33.744624, -117.841576], [37.008443, -120.101807], [25.898438, -80.25908199999998], [35.15922, -119.465244], [27.907236, -82.745901], [36.45887000000001, -119.43889], [42.76062, -122.05931], [42.1203, -75.97399999999998], [37.825468, -122.303498], [39.10537, -94.68606], [32.55441, -83.66232], [31.78245, -106.29362], [41.052228, -73.810476], [44.311592, -92.695912], [33.647024, -81.188441], [28.43990100000001, -81.47108399999998], [36.182945, -86.320964], [41.664136, -91.355727], [37.551972, -77.47733199999998], [40.585, -74.3285], [25.781275, -80.33285699999998], [34.217616, -119.05166], [26.67115, -80.07025], [40.362155, -79.932195], [34.446415, -119.797019], [39.98745, -105.23664], [46.749565, -114.13468799999998], [37.78599000000001, -79.58974], [32.955068, -117.148], [31.744187, -106.331844], [33.8181, -117.876406], [33.572001, -81.693602], [33.503075, -112.268139], [34.119662, -117.810956], [29.59933, -95.62134], [35.271166, -80.813212], [33.697590000000005, -117.94006], [34.578313, -117.969504], [35.084492, -82.44662199999998], [42.813924, -73.766706], [33.928037, -118.237048], [27.488962, -82.562798], [38.97683, -77.17820999999998], [37.982431, -121.249941], [29.015357, -82.011934], [40.43858, -111.49184], [25.744296, -80.311406], [25.732846, -80.318718], [41.07962, -73.92168000000002], [41.240666, -96.086045], [34.13646, -117.57176], [34.030483000000004, -117.584693], [43.13446, -77.55294], [37.92224, -120.84391200000002], [40.85306, -73.96011], [43.129693, -124.364147], [44.889709, -93.389043], [43.03554000000001, -89.45418000000002], [37.565689, -120.79206], [35.441098, -119.087347], [30.296694, -84.243774], [35.165888, -80.876153], [34.054262, -118.004172], [43.637276, -95.398567], [42.53584, -83.76932], [28.450097, -81.47683599999998], [33.03375, -80.19869], [38.56341, -121.34143], [36.114, -86.72438000000002], [38.889637, -77.908005], [28.57812, -81.41845699999998], [39.35939000000001, -78.04892], [37.827097, -122.29615], [33.86123, -117.877311], [25.76655, -80.32065], [38.797009, -77.51769200000003], [25.882476, -80.25125799999998], [37.898073, -122.09004], [40.243715, -75.634774], [37.764022, -122.216843], [37.72359, -122.438828], [38.56936, -121.508907], [44.5695, -93.29829], [38.213818, -122.142649], [40.52342, -74.34748], [34.272875, -118.044782], [38.959777, -77.277275], [42.347576, -71.084967], [33.46219, -112.072858], [41.793267, -87.94709], [42.37106, -83.05438000000002], [33.774143, -118.057373], [43.19583400000001, -117.04082], [33.372541, -117.253381], [35.737001, -78.56564200000003], [39.32437, -120.395854], [34.136441, -117.545932], [32.991608, -117.255985], [39.08149, -94.59363], [38.802534, -121.131892], [43.935709, -93.092807], [35.747509, -78.593855], [25.924719, -80.209819], [39.124492, -78.187862], [40.442208, -79.824331], [32.708203000000005, -96.874273], [26.52802100000001, -81.870594], [34.008553000000006, -117.347236], [39.15376, -76.748417], [37.6408, -121.40494], [37.676612, -97.357139], [34.317933000000004, -119.108267], [38.793679, -77.052601], [34.036543, -118.156884], [40.54088, -79.807], [28.408204, -81.44808], [36.771589, -76.25745], [27.208732, -81.74882099999998], [45.343991, -118.120834], [41.49764, -111.968754], [34.184459999999994, -118.90632], [34.14103, -81.24768900000002], [36.306005, -86.70625799999998], [38.268, -121.32393], [30.595467, -83.117898], [41.8276, -72.666647], [40.54416, -111.975677], [39.491804, -77.562628], [32.391148, -93.805298], [36.933075, -121.388241], [34.136709, -117.470881], [37.363718, -121.897999], [37.865851, -122.20706], [38.498677, -122.992852], [35.247777, -80.845652], [42.39696, -83.21805], [39.097386, -94.59217], [39.964468, -76.726495], [44.966837, -93.21997], [42.550295, -82.877672], [27.53461, -82.51021], [33.824599, -113.534601], [34.615774, -118.714561], [38.683137, -90.238901], [29.940194, -90.10219], [42.65996, -73.72178000000002], [37.9405, -120.747717], [33.503302000000005, -86.81564499999998], [36.20756, -86.76782800000002], [38.532518, -121.949873], [28.42435900000001, -81.40478399999998], [38.56052, -121.465448], [44.82627, -93.29166], [39.375, -108.163403], [33.973774, -118.381597], [47.57167000000001, -122.3292], [29.59109500000001, -82.002555], [38.57526, -121.57196], [45.38648, -122.75121], [39.09615, -94.584968], [45.41685, -122.74386], [36.604331, -121.694923], [30.600548, -87.158474], [39.22955, -76.71444], [34.842420000000004, -82.282737], [27.418276, -82.546689], [25.700673, -80.381158], [38.64202, -121.15913], [29.703725, -95.484706], [28.144879, -82.462296], [28.256239, -81.46410999999998], [33.677108000000004, -117.88184], [39.096244, -94.566021], [40.675839, -74.279412], [29.433971000000003, -98.395603], [34.04948, -118.46087], [32.776046, -96.511491], [40.859236, -73.827055], [37.635136, -122.102383], [33.687439000000005, -117.873515], [40.02656, -75.23125], [33.95572, -117.38093], [48.13918, -122.18666], [37.55108, -77.43856], [39.109019, -77.185695], [25.970295, -80.165723], [47.437375, -115.681005], [40.802118, -73.17617], [26.094357, -80.16888900000002], [40.223747, -121.477192], [38.757, -90.58023], [36.946725, -120.044785], [37.013682, -83.947241], [37.96480800000001, -122.514105], [34.175757, -118.518522], [38.96203, -77.18672], [33.950622, -118.103008], [45.558583, -94.206043], [37.74133, -121.58089], [43.69488, -123.20106], [36.989444, -122.020278], [34.162834000000004, -81.281869], [32.776796000000004, -96.783713], [34.266566999999995, -118.443517], [43.0714, -76.23366999999998], [33.657053000000005, -86.71084499999998], [43.997186, -121.405371], [40.756249, -73.878755], [39.65868, -75.75152], [45.349255, -122.656806], [39.98391, -76.82366999999998], [43.619401, -116.355803], [40.983306, -73.83896999999997], [25.945868, -80.168667], [41.10972, -73.40349], [28.577875, -81.45242900000002], [40.718055, -112.114431], [40.74977, -111.6051], [44.894475, -93.274845], [33.980676, -117.841643], [45.529693, -122.665303], [37.825996, -122.275171], [42.06849, -86.4365], [41.065331, -111.968591], [39.161665, -84.514325], [36.90773, -120.074196], [32.241776, -80.995715], [37.586843, -122.335069], [37.354735, -122.111053], [34.064616, -118.247278], [37.81246, -122.25067], [29.937602, -95.454493], [34.064409999999995, -117.30159], [28.55319, -81.475967], [29.78482, -95.56549], [25.930694, -80.123533], [39.005659, -77.07740600000002], [34.563121, -118.683701], [37.76913, -121.971068], [37.93945, -122.70504], [38.93475, -94.42667], [40.89264, -74.66229], [32.777291, -96.783531], [37.731705, -122.434301], [38.560477, -121.458932], [36.142198, -86.710213], [33.3858, -111.851443], [37.659683, -121.122512], [39.24241, -94.52061], [37.248249, -80.20476500000002], [39.053425, -94.478032], [29.953697, -90.070048], [34.018083000000004, -117.816138], [37.985937, -122.040863], [35.338599, -118.914272], [26.579517, -81.871977], [38.625688, -121.309826], [34.137821, -117.331102], [29.945136, -97.881392], [38.925274, -76.965162], [32.727806, -117.104933], [33.538540000000005, -112.13434], [37.37989, -121.85828], [41.319977, -73.985078], [36.009869, -121.152995], [41.58483, -83.56414000000002], [39.73546, -75.56393], [35.343866, -114.221224], [34.068436, -117.342857], [35.21758900000001, -80.834069], [41.88681, -87.92041], [39.16453, -94.626986], [34.200399, -118.959422], [42.51701, -83.60965999999998], [39.87264, -75.34933000000002], [33.950107, -118.091861], [35.887505, -78.844868], [37.812591, -79.681895], [35.89131300000001, -78.56076], [34.23679, -79.750341], [33.766574, -117.97544], [40.757114, -73.99297299999998], [40.694133, -111.902659], [43.583621, -116.193668], [40.560961, -74.26216600000002], [28.436223, -81.368478], [41.7404, -87.6251], [33.642061, -83.987247], [43.16464000000001, -77.64663], [30.372128000000004, -97.665931], [27.436840000000004, -82.44582], [44.319809, -121.163423], [30.17373, -90.88224], [40.555093, -78.925331], [35.417277, -119.0345], [40.69324, -73.54346], [32.8575, -96.931697], [36.993702, -121.49818], [33.852505, -117.790651], [33.29314, -117.149758], [37.734145, -118.969468], [45.298407, -93.799499], [30.189243, -97.573033], [42.995999, -85.676237], [37.83735, -122.29622], [37.242503, -93.260868], [37.97486, -78.20916], [38.9308, -76.971028], [32.703578, -117.139502], [27.842802, -82.731059], [30.585454, -84.195753], [36.677668, -119.785929], [38.898241, -77.010944], [34.444596999999995, -82.713813], [30.508392, -91.176047], [39.422694, -76.39774399999997], [33.870453000000005, -117.734691], [36.778335, -114.1436], [32.677467, -97.062447], [31.779179, -85.94200000000002], [42.913557, -83.798099], [33.435548, -111.932777], [35.292109, -113.04319], [36.752861, -119.695068], [45.663546, -121.893719], [37.857631, -122.212846], [40.75072, -73.75083000000002], [39.40142, -76.56343000000003], [33.880151, -117.565244], [35.807029, -90.642904], [34.85510900000001, -82.498597], [34.05464, -118.00543], [33.941674, -118.096278], [25.683394, -80.41639599999998], [27.88999, -82.716151], [26.52816, -80.17251999999998], [33.934095, -117.407842], [37.38834600000001, -121.867271], [36.311508, -86.683441], [38.556154, -122.793663], [30.397647, -86.618409], [36.685938, -119.750865], [35.58009000000001, -97.53136], [40.79899, -73.46911], [45.581112, -94.099317], [29.45983, -98.481153], [38.65844, -90.44844], [36.984587, -121.991512], [41.79001, -87.63150999999998], [29.837882, -84.681837], [40.53461, -111.89233], [38.51045300000001, -121.459871], [33.461890000000004, -112.09995], [26.281238, -80.12501800000003], [26.30181, -80.25757], [43.010541, -83.614979], [33.88225, -117.589718], [44.92725, -93.39989], [28.423899, -81.404781], [29.740847, -95.359974], [38.877663, -76.99108299999997], [34.417925, -119.709702], [30.415541, -91.062612], [34.26589, -119.23723], [45.350779, -122.659318], [33.974736, -118.240603], [37.51028, -121.97122], [27.44749, -82.526657], [34.215838, -119.028553], [26.330517, -81.80828299999997], [41.252299, -122.136209], [34.706503000000005, -117.202556], [44.224532, -92.791639], [41.524064, -72.800289], [33.846505, -118.284913], [41.044353, -74.06910500000002], [28.538172, -81.475728], [46.328428, -122.9095], [29.759088, -81.3134], [34.016021, -117.550103], [36.041148, -86.77551899999996], [38.5826, -118.706556], [40.096744, -75.29737], [29.201751, -82.18476], [34.664944, -120.408257], [36.663336, -119.781793], [40.83499000000001, -124.08181], [28.525478000000003, -81.310476], [37.934635, -120.806966], [25.81711, -80.20644], [40.325844, -79.546251], [38.581742, -121.5041], [25.651133, -80.36721800000002], [41.163283, -73.73084399999998], [25.82872, -80.20608], [25.447768, -80.478808], [38.680501, -76.874223], [42.766116, -123.335984], [44.9585, -93.19889], [37.494107, -122.225747], [40.107968, -75.30223199999998], [45.51101, -92.98832], [28.450989, -81.361362], [34.063693, -117.814934], [38.685554, -77.22791], [30.44876, -82.93332], [35.22876, -80.84083000000003], [25.912115, -80.211764], [40.040769, -75.251129], [40.65905, -116.25845], [37.607998, -121.873679], [33.74045, -117.83374], [36.96507800000001, -81.065894], [34.056555, -118.214231], [34.229031, -84.470475], [36.126791, -94.180866], [32.67365, -97.198094], [34.03049, -117.66272], [42.88855, -78.88794], [33.803014000000005, -117.975787], [32.69746, -96.82324], [45.14553, -122.88655], [29.982644, -90.05494200000004], [40.55232, -74.21710999999998], [41.85996, -87.64423000000002], [37.637346, -122.440234], [42.419, -82.93413000000002], [46.066349, -97.053061], [37.699249, -122.392792], [32.72987, -83.725229], [34.614063, -120.104057], [40.23192, -75.52461], [33.164216, -80.35776899999998], [29.94196, -95.38216], [41.23532, -75.84607], [43.12143, -87.91731999999998], [34.059176, -118.183054], [35.156187, -80.852175], [37.500589, -77.530438], [36.169733, -86.80971600000002], [32.727917, -97.590619], [40.70249, -111.95275], [40.62252700000001, -111.903271], [34.891494, -82.077229], [33.40743, -111.90908], [40.67997, -111.90227], [33.269938, -117.43873], [27.559305, -80.717525], [39.713602, -85.857236], [38.973545, -77.634367], [28.552674, -81.41646999999998], [35.023282, -85.29119200000002], [42.284867, -83.676218], [33.687038, -117.866278], [39.828158, -75.103911], [34.12053, -117.83568], [36.54483, -119.59381], [43.164521, -83.639811], [34.422811, -118.585614], [40.26556, -86.65937], [40.46686, -74.29734], [28.580942, -81.30795400000002], [35.026999, -85.253573], [30.291090000000004, -81.521718], [38.019101, -121.937152], [38.835903, -121.266255], [29.988317, -97.872304], [35.904615, -89.89188], [25.871011, -80.345023], [41.94327, -87.71621], [39.812837, -84.225747], [33.744342, -84.498774], [33.681367, -85.294128], [38.331307, -122.71311], [44.260429, -117.181881], [43.133154, -77.47586], [30.42528900000001, -91.160783], [38.57399, -121.384304], [29.60043, -95.29888], [37.801841, -122.296725], [44.0285, -121.315996], [41.87185, -87.8298], [40.28586, -74.71434], [34.340847, -118.52114], [33.69855, -84.45995], [47.396011, -92.881591], [28.388226, -81.404655], [30.426076, -91.166209], [44.230774, -121.204358], [33.923342, -118.103681], [33.94976, -118.09183], [41.705203, -122.539889], [41.327696, -74.811335], [38.340659, -123.048078], [33.902204, -118.291972], [34.020578, -117.814393], [30.310603000000004, -81.523736], [38.704843, -121.382908], [35.155481, -80.851609], [29.72968, -95.3462], [38.023425, -122.5387], [26.77962, -80.09924000000002], [33.362758, -117.206548], [40.160409, -79.86310999999998], [38.857834, -94.528135], [45.51549, -122.69966], [38.54603, -109.52099], [41.334698, -84.5533], [34.030196999999994, -81.101106], [28.5683, -81.26801], [45.42648, -94.63977], [33.83235, -117.932427], [37.198715, -121.992789], [40.842822, -73.83787], [37.364098, -121.901972], [34.079469, -118.259622], [33.378248, -111.927477], [42.976933, -85.653412], [45.49457, -122.7916], [33.41083, -86.80263000000002], [31.76063, -106.26827], [39.122049, -123.203752], [37.58687000000001, -122.336039], [43.752976, -120.417376], [34.377719, -118.493741], [38.068217, -78.96507], [26.027437, -80.16591600000002], [34.065656, -118.242643], [44.765135, -93.288699], [40.310278, -121.170556], [34.273599, -118.591028], [39.012473, -94.693527], [30.2675, -97.74449], [45.836762, -119.717178], [35.789977, -78.63432399999998], [39.747752, -121.91915], [33.033859, -80.107477], [38.656309, -121.48776399999998], [39.944254, -79.1779], [28.410896, -80.826523], [40.22574, -74.05036], [41.85056, -87.6445], [27.345542, -82.54693], [39.97727, -83.14663], [42.15371, -88.040318], [39.129663, -121.585575], [37.048965, -122.082411], [33.840758, -117.296369], [39.868051, -75.338915], [41.84303, -71.41926]],\n",
       "                {&quot;blur&quot;: 15, &quot;maxZoom&quot;: 18, &quot;minOpacity&quot;: 0.5, &quot;radius&quot;: 25}\n",
       "            ).addTo(map_056321cb50344c710b43909e00c55b6d);\n",
       "        \n",
       "&lt;/script&gt;\" style=\"position:absolute;width:100%;height:100%;left:0;top:0;border:none !important;\" allowfullscreen webkitallowfullscreen mozallowfullscreen></iframe></div></div>"
      ],
      "text/plain": [
       "<folium.folium.Map at 0x24b8f8e3be0>"
      ]
     },
     "execution_count": 50,
     "metadata": {},
     "output_type": "execute_result"
    }
   ],
   "source": [
    "map = folium.Map()\n",
    "HeatMap(lat_lon_pairs).add_to(map)\n",
    "map"
   ]
  },
  {
   "cell_type": "code",
   "execution_count": null,
   "metadata": {},
   "outputs": [],
   "source": []
  },
  {
   "cell_type": "code",
   "execution_count": null,
   "metadata": {},
   "outputs": [],
   "source": []
  }
 ],
 "metadata": {
  "kernelspec": {
   "display_name": "Python 3",
   "language": "python",
   "name": "python3"
  },
  "language_info": {
   "codemirror_mode": {
    "name": "ipython",
    "version": 3
   },
   "file_extension": ".py",
   "mimetype": "text/x-python",
   "name": "python",
   "nbconvert_exporter": "python",
   "pygments_lexer": "ipython3",
   "version": "3.8.5"
  }
 },
 "nbformat": 4,
 "nbformat_minor": 4
}
